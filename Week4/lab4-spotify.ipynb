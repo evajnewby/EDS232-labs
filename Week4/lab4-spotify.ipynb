{
 "cells": [
  {
   "cell_type": "markdown",
   "id": "ad7fbe2b-da60-4059-ae71-e322fecfd0db",
   "metadata": {},
   "source": [
    "# Lab 4: Building a Spotify Song Classifier with KNNs and Decision Trees\n",
    "\n",
    "Author: Eva Newby\n",
    "\n",
    "Collaborators: Haylee Oliver, Marina Kochuten, Jo Cardelle. \n",
    "\n",
    "**Classify by genres**. In this lab, you will build machine learning genre classifiers using a dataset of Spotify tracks. Your goal is to train a model that can distinguish between two selected genres based on various audio features such as danceability, energy, valence, tempo, and more.\n",
    "\n",
    "We'll follow the familiar workflow of data exploration -> preprocessing -> model training -> evaluation"
   ]
  },
  {
   "cell_type": "code",
   "execution_count": 1,
   "id": "cb34875f",
   "metadata": {
    "tags": []
   },
   "outputs": [],
   "source": [
    "import pandas as pd\n",
    "from sklearn.preprocessing import LabelEncoder\n",
    "from sklearn.preprocessing import StandardScaler\n",
    "from sklearn.model_selection import train_test_split\n",
    "import matplotlib.pyplot as plt\n",
    "import seaborn as sns\n",
    "from sklearn.neighbors import KNeighborsClassifier\n",
    "from sklearn.tree import DecisionTreeClassifier\n",
    "from sklearn.metrics import accuracy_score"
   ]
  },
  {
   "cell_type": "markdown",
   "id": "4aaac8c4-fbb4-40f9-8a59-e800395c6c65",
   "metadata": {},
   "source": [
    "### Step 1: The data\n",
    "We'll focus on two genres: Blues and Jazz (what’s the difference, anyway??).\n",
    "\n",
    "Both genres have rich musical histories, but they differ in structure:\n",
    "\n",
    "- Blues tends to have simpler chord progressions and a strong emotional expression.\n",
    "- Jazz often involves complex improvisation and more varied rhythms.\n",
    "\n",
    "But can a machine really tell them apart just by looking at numerical audio features? That’s what we’ll find out!\n",
    "\n",
    "In this step, you will:\n",
    "- Load the dataset\n",
    "- Extract only blues and jazz for classification"
   ]
  },
  {
   "cell_type": "code",
   "execution_count": 2,
   "id": "082e215a",
   "metadata": {
    "tags": []
   },
   "outputs": [
    {
     "data": {
      "text/plain": [
       "id                   object\n",
       "name                 object\n",
       "album                object\n",
       "album_id             object\n",
       "artists              object\n",
       "artist_ids           object\n",
       "track_number          int64\n",
       "disc_number           int64\n",
       "explicit               bool\n",
       "danceability        float64\n",
       "energy              float64\n",
       "key                   int64\n",
       "loudness            float64\n",
       "mode                  int64\n",
       "speechiness         float64\n",
       "acousticness        float64\n",
       "instrumentalness    float64\n",
       "liveness            float64\n",
       "valence             float64\n",
       "tempo               float64\n",
       "duration_ms           int64\n",
       "time_signature      float64\n",
       "year                  int64\n",
       "release_date         object\n",
       "genres               object\n",
       "dtype: object"
      ]
     },
     "execution_count": 2,
     "metadata": {},
     "output_type": "execute_result"
    }
   ],
   "source": [
    "# Load dataset\n",
    "spotify_data = pd.read_csv('/courses/EDS232/Data/spotify_dat.csv')\n",
    "\n",
    "# Print the data types in spotify_data\n",
    "spotify_data.dtypes"
   ]
  },
  {
   "cell_type": "code",
   "execution_count": 3,
   "id": "97896375-3ca2-4c94-a240-6b2934547593",
   "metadata": {
    "tags": []
   },
   "outputs": [
    {
     "data": {
      "text/html": [
       "<div>\n",
       "<style scoped>\n",
       "    .dataframe tbody tr th:only-of-type {\n",
       "        vertical-align: middle;\n",
       "    }\n",
       "\n",
       "    .dataframe tbody tr th {\n",
       "        vertical-align: top;\n",
       "    }\n",
       "\n",
       "    .dataframe thead th {\n",
       "        text-align: right;\n",
       "    }\n",
       "</style>\n",
       "<table border=\"1\" class=\"dataframe\">\n",
       "  <thead>\n",
       "    <tr style=\"text-align: right;\">\n",
       "      <th></th>\n",
       "      <th>id</th>\n",
       "      <th>name</th>\n",
       "      <th>album</th>\n",
       "      <th>album_id</th>\n",
       "      <th>artists</th>\n",
       "      <th>artist_ids</th>\n",
       "      <th>track_number</th>\n",
       "      <th>disc_number</th>\n",
       "      <th>explicit</th>\n",
       "      <th>danceability</th>\n",
       "      <th>...</th>\n",
       "      <th>acousticness</th>\n",
       "      <th>instrumentalness</th>\n",
       "      <th>liveness</th>\n",
       "      <th>valence</th>\n",
       "      <th>tempo</th>\n",
       "      <th>duration_ms</th>\n",
       "      <th>time_signature</th>\n",
       "      <th>year</th>\n",
       "      <th>release_date</th>\n",
       "      <th>genres</th>\n",
       "    </tr>\n",
       "  </thead>\n",
       "  <tbody>\n",
       "    <tr>\n",
       "      <th>0</th>\n",
       "      <td>7lmeHLHBe4nmXzuXc0HDjk</td>\n",
       "      <td>Testify</td>\n",
       "      <td>The Battle Of Los Angeles</td>\n",
       "      <td>2eia0myWFgoHuttJytCxgX</td>\n",
       "      <td>['Rage Against The Machine']</td>\n",
       "      <td>['2d0hyoQ5ynDBnkvAbJKORj']</td>\n",
       "      <td>1</td>\n",
       "      <td>1</td>\n",
       "      <td>False</td>\n",
       "      <td>0.470</td>\n",
       "      <td>...</td>\n",
       "      <td>0.0261</td>\n",
       "      <td>0.000011</td>\n",
       "      <td>0.356</td>\n",
       "      <td>0.503</td>\n",
       "      <td>117.906</td>\n",
       "      <td>210133</td>\n",
       "      <td>4.0</td>\n",
       "      <td>1999</td>\n",
       "      <td>1999-11-02</td>\n",
       "      <td>rap metal</td>\n",
       "    </tr>\n",
       "    <tr>\n",
       "      <th>1</th>\n",
       "      <td>1wsRitfRRtWyEapl0q22o8</td>\n",
       "      <td>Guerrilla Radio</td>\n",
       "      <td>The Battle Of Los Angeles</td>\n",
       "      <td>2eia0myWFgoHuttJytCxgX</td>\n",
       "      <td>['Rage Against The Machine']</td>\n",
       "      <td>['2d0hyoQ5ynDBnkvAbJKORj']</td>\n",
       "      <td>2</td>\n",
       "      <td>1</td>\n",
       "      <td>True</td>\n",
       "      <td>0.599</td>\n",
       "      <td>...</td>\n",
       "      <td>0.0129</td>\n",
       "      <td>0.000071</td>\n",
       "      <td>0.155</td>\n",
       "      <td>0.489</td>\n",
       "      <td>103.680</td>\n",
       "      <td>206200</td>\n",
       "      <td>4.0</td>\n",
       "      <td>1999</td>\n",
       "      <td>1999-11-02</td>\n",
       "      <td>rap metal</td>\n",
       "    </tr>\n",
       "    <tr>\n",
       "      <th>2</th>\n",
       "      <td>1hR0fIFK2qRG3f3RF70pb7</td>\n",
       "      <td>Calm Like a Bomb</td>\n",
       "      <td>The Battle Of Los Angeles</td>\n",
       "      <td>2eia0myWFgoHuttJytCxgX</td>\n",
       "      <td>['Rage Against The Machine']</td>\n",
       "      <td>['2d0hyoQ5ynDBnkvAbJKORj']</td>\n",
       "      <td>3</td>\n",
       "      <td>1</td>\n",
       "      <td>False</td>\n",
       "      <td>0.315</td>\n",
       "      <td>...</td>\n",
       "      <td>0.0234</td>\n",
       "      <td>0.000002</td>\n",
       "      <td>0.122</td>\n",
       "      <td>0.370</td>\n",
       "      <td>149.749</td>\n",
       "      <td>298893</td>\n",
       "      <td>4.0</td>\n",
       "      <td>1999</td>\n",
       "      <td>1999-11-02</td>\n",
       "      <td>rap metal</td>\n",
       "    </tr>\n",
       "  </tbody>\n",
       "</table>\n",
       "<p>3 rows × 25 columns</p>\n",
       "</div>"
      ],
      "text/plain": [
       "                       id              name                      album  \\\n",
       "0  7lmeHLHBe4nmXzuXc0HDjk           Testify  The Battle Of Los Angeles   \n",
       "1  1wsRitfRRtWyEapl0q22o8   Guerrilla Radio  The Battle Of Los Angeles   \n",
       "2  1hR0fIFK2qRG3f3RF70pb7  Calm Like a Bomb  The Battle Of Los Angeles   \n",
       "\n",
       "                 album_id                       artists  \\\n",
       "0  2eia0myWFgoHuttJytCxgX  ['Rage Against The Machine']   \n",
       "1  2eia0myWFgoHuttJytCxgX  ['Rage Against The Machine']   \n",
       "2  2eia0myWFgoHuttJytCxgX  ['Rage Against The Machine']   \n",
       "\n",
       "                   artist_ids  track_number  disc_number  explicit  \\\n",
       "0  ['2d0hyoQ5ynDBnkvAbJKORj']             1            1     False   \n",
       "1  ['2d0hyoQ5ynDBnkvAbJKORj']             2            1      True   \n",
       "2  ['2d0hyoQ5ynDBnkvAbJKORj']             3            1     False   \n",
       "\n",
       "   danceability  ...  acousticness  instrumentalness  liveness  valence  \\\n",
       "0         0.470  ...        0.0261          0.000011     0.356    0.503   \n",
       "1         0.599  ...        0.0129          0.000071     0.155    0.489   \n",
       "2         0.315  ...        0.0234          0.000002     0.122    0.370   \n",
       "\n",
       "     tempo  duration_ms  time_signature  year  release_date     genres  \n",
       "0  117.906       210133             4.0  1999    1999-11-02  rap metal  \n",
       "1  103.680       206200             4.0  1999    1999-11-02  rap metal  \n",
       "2  149.749       298893             4.0  1999    1999-11-02  rap metal  \n",
       "\n",
       "[3 rows x 25 columns]"
      ]
     },
     "execution_count": 3,
     "metadata": {},
     "output_type": "execute_result"
    }
   ],
   "source": [
    "# View the first 3 rows\n",
    "spotify_data.head(3)"
   ]
  },
  {
   "cell_type": "code",
   "execution_count": 4,
   "id": "4071293c-24e8-4478-9d9f-ab312254444e",
   "metadata": {
    "tags": []
   },
   "outputs": [
    {
     "data": {
      "text/html": [
       "<div>\n",
       "<style scoped>\n",
       "    .dataframe tbody tr th:only-of-type {\n",
       "        vertical-align: middle;\n",
       "    }\n",
       "\n",
       "    .dataframe tbody tr th {\n",
       "        vertical-align: top;\n",
       "    }\n",
       "\n",
       "    .dataframe thead th {\n",
       "        text-align: right;\n",
       "    }\n",
       "</style>\n",
       "<table border=\"1\" class=\"dataframe\">\n",
       "  <thead>\n",
       "    <tr style=\"text-align: right;\">\n",
       "      <th></th>\n",
       "      <th>id</th>\n",
       "      <th>name</th>\n",
       "      <th>album</th>\n",
       "      <th>album_id</th>\n",
       "      <th>artists</th>\n",
       "      <th>artist_ids</th>\n",
       "      <th>track_number</th>\n",
       "      <th>disc_number</th>\n",
       "      <th>explicit</th>\n",
       "      <th>danceability</th>\n",
       "      <th>...</th>\n",
       "      <th>acousticness</th>\n",
       "      <th>instrumentalness</th>\n",
       "      <th>liveness</th>\n",
       "      <th>valence</th>\n",
       "      <th>tempo</th>\n",
       "      <th>duration_ms</th>\n",
       "      <th>time_signature</th>\n",
       "      <th>year</th>\n",
       "      <th>release_date</th>\n",
       "      <th>genre</th>\n",
       "    </tr>\n",
       "  </thead>\n",
       "  <tbody>\n",
       "    <tr>\n",
       "      <th>333</th>\n",
       "      <td>4MdlxZHzUi8fGvuXOtNVhb</td>\n",
       "      <td>Johnny B. Goode - Live</td>\n",
       "      <td>Johnny Winter: A Rock N' Roll Collection</td>\n",
       "      <td>6yn5Mylr8HsH9PVro7Fo22</td>\n",
       "      <td>['Johnny Winter']</td>\n",
       "      <td>['2ODUxmFxJSyvGiimNhMHbO']</td>\n",
       "      <td>1</td>\n",
       "      <td>1</td>\n",
       "      <td>False</td>\n",
       "      <td>0.415</td>\n",
       "      <td>...</td>\n",
       "      <td>0.023</td>\n",
       "      <td>0.077100</td>\n",
       "      <td>0.9410</td>\n",
       "      <td>0.924</td>\n",
       "      <td>159.366</td>\n",
       "      <td>203407</td>\n",
       "      <td>4.0</td>\n",
       "      <td>1973</td>\n",
       "      <td>1973</td>\n",
       "      <td>blues</td>\n",
       "    </tr>\n",
       "    <tr>\n",
       "      <th>334</th>\n",
       "      <td>576DmaRTiVhm3l00mpQwDm</td>\n",
       "      <td>Good Morning Little School Girl - Live</td>\n",
       "      <td>Johnny Winter: A Rock N' Roll Collection</td>\n",
       "      <td>6yn5Mylr8HsH9PVro7Fo22</td>\n",
       "      <td>['Johnny Winter']</td>\n",
       "      <td>['2ODUxmFxJSyvGiimNhMHbO']</td>\n",
       "      <td>2</td>\n",
       "      <td>1</td>\n",
       "      <td>False</td>\n",
       "      <td>0.294</td>\n",
       "      <td>...</td>\n",
       "      <td>0.188</td>\n",
       "      <td>0.422000</td>\n",
       "      <td>0.9740</td>\n",
       "      <td>0.639</td>\n",
       "      <td>187.886</td>\n",
       "      <td>276968</td>\n",
       "      <td>4.0</td>\n",
       "      <td>1973</td>\n",
       "      <td>1973</td>\n",
       "      <td>blues</td>\n",
       "    </tr>\n",
       "    <tr>\n",
       "      <th>335</th>\n",
       "      <td>3k3Q8IZ5oOqCUfOP2UPgpW</td>\n",
       "      <td>I'll Drown in My Tears</td>\n",
       "      <td>Johnny Winter: A Rock N' Roll Collection</td>\n",
       "      <td>6yn5Mylr8HsH9PVro7Fo22</td>\n",
       "      <td>['Johnny Winter']</td>\n",
       "      <td>['2ODUxmFxJSyvGiimNhMHbO']</td>\n",
       "      <td>3</td>\n",
       "      <td>1</td>\n",
       "      <td>False</td>\n",
       "      <td>0.424</td>\n",
       "      <td>...</td>\n",
       "      <td>0.827</td>\n",
       "      <td>0.000021</td>\n",
       "      <td>0.0742</td>\n",
       "      <td>0.390</td>\n",
       "      <td>95.799</td>\n",
       "      <td>285360</td>\n",
       "      <td>3.0</td>\n",
       "      <td>1973</td>\n",
       "      <td>1973</td>\n",
       "      <td>blues</td>\n",
       "    </tr>\n",
       "  </tbody>\n",
       "</table>\n",
       "<p>3 rows × 25 columns</p>\n",
       "</div>"
      ],
      "text/plain": [
       "                         id                                    name  \\\n",
       "333  4MdlxZHzUi8fGvuXOtNVhb                  Johnny B. Goode - Live   \n",
       "334  576DmaRTiVhm3l00mpQwDm  Good Morning Little School Girl - Live   \n",
       "335  3k3Q8IZ5oOqCUfOP2UPgpW                  I'll Drown in My Tears   \n",
       "\n",
       "                                        album                album_id  \\\n",
       "333  Johnny Winter: A Rock N' Roll Collection  6yn5Mylr8HsH9PVro7Fo22   \n",
       "334  Johnny Winter: A Rock N' Roll Collection  6yn5Mylr8HsH9PVro7Fo22   \n",
       "335  Johnny Winter: A Rock N' Roll Collection  6yn5Mylr8HsH9PVro7Fo22   \n",
       "\n",
       "               artists                  artist_ids  track_number  disc_number  \\\n",
       "333  ['Johnny Winter']  ['2ODUxmFxJSyvGiimNhMHbO']             1            1   \n",
       "334  ['Johnny Winter']  ['2ODUxmFxJSyvGiimNhMHbO']             2            1   \n",
       "335  ['Johnny Winter']  ['2ODUxmFxJSyvGiimNhMHbO']             3            1   \n",
       "\n",
       "     explicit  danceability  ...  acousticness  instrumentalness  liveness  \\\n",
       "333     False         0.415  ...         0.023          0.077100    0.9410   \n",
       "334     False         0.294  ...         0.188          0.422000    0.9740   \n",
       "335     False         0.424  ...         0.827          0.000021    0.0742   \n",
       "\n",
       "     valence    tempo  duration_ms  time_signature  year  release_date  genre  \n",
       "333    0.924  159.366       203407             4.0  1973          1973  blues  \n",
       "334    0.639  187.886       276968             4.0  1973          1973  blues  \n",
       "335    0.390   95.799       285360             3.0  1973          1973  blues  \n",
       "\n",
       "[3 rows x 25 columns]"
      ]
     },
     "execution_count": 4,
     "metadata": {},
     "output_type": "execute_result"
    }
   ],
   "source": [
    "# Filter down to two genres\n",
    "blues_data = spotify_data[spotify_data['genres']=='blues']\n",
    "jazz_data =  spotify_data[spotify_data['genres']=='jazz']\n",
    "\n",
    "# Combine both genres into one dataset\n",
    "combined_data = pd.concat([blues_data, jazz_data])\n",
    "\n",
    "# Rename 'genres' column to 'genre' for clarity\n",
    "combined_data = combined_data.rename(columns = {'genres':'genre'})\n",
    "\n",
    "# Check changes by viewing first 3 rows\n",
    "combined_data.head(3)"
   ]
  },
  {
   "cell_type": "markdown",
   "id": "70e8340d-f51a-4659-b3eb-c0549575552a",
   "metadata": {},
   "source": [
    "## Step 2: Data Exploration\n",
    "Now that we have Blues and Jazz as our two genres, it's time to explore the data and look for patterns in the audio features.\n",
    "\n",
    "Let's investigate:\n",
    "- Which features are available?\n",
    "- How strongly these features correlate with each other.\n",
    "- How different genres distribute across  sample features: danceability \n",
    "\n",
    "In this step, we will:\n",
    "- Filter out non-numeric columns before the plotting\n",
    "- Visualize feature correlations using a heatmap.\n",
    "- Examine key feature distributions with histograms to see if genres behave differently.\n"
   ]
  },
  {
   "cell_type": "code",
   "execution_count": 6,
   "id": "8d476df1-a888-43a2-aabb-987bc9e835aa",
   "metadata": {
    "tags": []
   },
   "outputs": [
    {
     "ename": "ValueError",
     "evalue": "could not convert string to float: 'blues'",
     "output_type": "error",
     "traceback": [
      "\u001b[0;31m---------------------------------------------------------------------------\u001b[0m",
      "\u001b[0;31mValueError\u001b[0m                                Traceback (most recent call last)",
      "Cell \u001b[0;32mIn[6], line 6\u001b[0m\n\u001b[1;32m      3\u001b[0m numeric_features\u001b[38;5;241m.\u001b[39mloc[:,\u001b[38;5;124m'\u001b[39m\u001b[38;5;124mgenre\u001b[39m\u001b[38;5;124m'\u001b[39m] \u001b[38;5;241m=\u001b[39m combined_data[\u001b[38;5;124m'\u001b[39m\u001b[38;5;124mgenre\u001b[39m\u001b[38;5;124m'\u001b[39m]\n\u001b[1;32m      5\u001b[0m \u001b[38;5;66;03m# Calculate correlation matrix\u001b[39;00m\n\u001b[0;32m----> 6\u001b[0m corr_matrix \u001b[38;5;241m=\u001b[39m \u001b[43mnumeric_features\u001b[49m\u001b[38;5;241;43m.\u001b[39;49m\u001b[43mcorr\u001b[49m\u001b[43m(\u001b[49m\u001b[43m)\u001b[49m\n\u001b[1;32m      8\u001b[0m \u001b[38;5;66;03m# Correlation heatmap\u001b[39;00m\n\u001b[1;32m      9\u001b[0m plt\u001b[38;5;241m.\u001b[39mfigure(figsize \u001b[38;5;241m=\u001b[39m (\u001b[38;5;241m10\u001b[39m,\u001b[38;5;241m8\u001b[39m))\n",
      "File \u001b[0;32m/opt/anaconda3/envs/ml-env/lib/python3.10/site-packages/pandas/core/frame.py:10704\u001b[0m, in \u001b[0;36mDataFrame.corr\u001b[0;34m(self, method, min_periods, numeric_only)\u001b[0m\n\u001b[1;32m  10702\u001b[0m cols \u001b[38;5;241m=\u001b[39m data\u001b[38;5;241m.\u001b[39mcolumns\n\u001b[1;32m  10703\u001b[0m idx \u001b[38;5;241m=\u001b[39m cols\u001b[38;5;241m.\u001b[39mcopy()\n\u001b[0;32m> 10704\u001b[0m mat \u001b[38;5;241m=\u001b[39m \u001b[43mdata\u001b[49m\u001b[38;5;241;43m.\u001b[39;49m\u001b[43mto_numpy\u001b[49m\u001b[43m(\u001b[49m\u001b[43mdtype\u001b[49m\u001b[38;5;241;43m=\u001b[39;49m\u001b[38;5;28;43mfloat\u001b[39;49m\u001b[43m,\u001b[49m\u001b[43m \u001b[49m\u001b[43mna_value\u001b[49m\u001b[38;5;241;43m=\u001b[39;49m\u001b[43mnp\u001b[49m\u001b[38;5;241;43m.\u001b[39;49m\u001b[43mnan\u001b[49m\u001b[43m,\u001b[49m\u001b[43m \u001b[49m\u001b[43mcopy\u001b[49m\u001b[38;5;241;43m=\u001b[39;49m\u001b[38;5;28;43;01mFalse\u001b[39;49;00m\u001b[43m)\u001b[49m\n\u001b[1;32m  10706\u001b[0m \u001b[38;5;28;01mif\u001b[39;00m method \u001b[38;5;241m==\u001b[39m \u001b[38;5;124m\"\u001b[39m\u001b[38;5;124mpearson\u001b[39m\u001b[38;5;124m\"\u001b[39m:\n\u001b[1;32m  10707\u001b[0m     correl \u001b[38;5;241m=\u001b[39m libalgos\u001b[38;5;241m.\u001b[39mnancorr(mat, minp\u001b[38;5;241m=\u001b[39mmin_periods)\n",
      "File \u001b[0;32m/opt/anaconda3/envs/ml-env/lib/python3.10/site-packages/pandas/core/frame.py:1889\u001b[0m, in \u001b[0;36mDataFrame.to_numpy\u001b[0;34m(self, dtype, copy, na_value)\u001b[0m\n\u001b[1;32m   1887\u001b[0m \u001b[38;5;28;01mif\u001b[39;00m dtype \u001b[38;5;129;01mis\u001b[39;00m \u001b[38;5;129;01mnot\u001b[39;00m \u001b[38;5;28;01mNone\u001b[39;00m:\n\u001b[1;32m   1888\u001b[0m     dtype \u001b[38;5;241m=\u001b[39m np\u001b[38;5;241m.\u001b[39mdtype(dtype)\n\u001b[0;32m-> 1889\u001b[0m result \u001b[38;5;241m=\u001b[39m \u001b[38;5;28;43mself\u001b[39;49m\u001b[38;5;241;43m.\u001b[39;49m\u001b[43m_mgr\u001b[49m\u001b[38;5;241;43m.\u001b[39;49m\u001b[43mas_array\u001b[49m\u001b[43m(\u001b[49m\u001b[43mdtype\u001b[49m\u001b[38;5;241;43m=\u001b[39;49m\u001b[43mdtype\u001b[49m\u001b[43m,\u001b[49m\u001b[43m \u001b[49m\u001b[43mcopy\u001b[49m\u001b[38;5;241;43m=\u001b[39;49m\u001b[43mcopy\u001b[49m\u001b[43m,\u001b[49m\u001b[43m \u001b[49m\u001b[43mna_value\u001b[49m\u001b[38;5;241;43m=\u001b[39;49m\u001b[43mna_value\u001b[49m\u001b[43m)\u001b[49m\n\u001b[1;32m   1890\u001b[0m \u001b[38;5;28;01mif\u001b[39;00m result\u001b[38;5;241m.\u001b[39mdtype \u001b[38;5;129;01mis\u001b[39;00m \u001b[38;5;129;01mnot\u001b[39;00m dtype:\n\u001b[1;32m   1891\u001b[0m     result \u001b[38;5;241m=\u001b[39m np\u001b[38;5;241m.\u001b[39marray(result, dtype\u001b[38;5;241m=\u001b[39mdtype, copy\u001b[38;5;241m=\u001b[39m\u001b[38;5;28;01mFalse\u001b[39;00m)\n",
      "File \u001b[0;32m/opt/anaconda3/envs/ml-env/lib/python3.10/site-packages/pandas/core/internals/managers.py:1656\u001b[0m, in \u001b[0;36mBlockManager.as_array\u001b[0;34m(self, dtype, copy, na_value)\u001b[0m\n\u001b[1;32m   1654\u001b[0m         arr\u001b[38;5;241m.\u001b[39mflags\u001b[38;5;241m.\u001b[39mwriteable \u001b[38;5;241m=\u001b[39m \u001b[38;5;28;01mFalse\u001b[39;00m\n\u001b[1;32m   1655\u001b[0m \u001b[38;5;28;01melse\u001b[39;00m:\n\u001b[0;32m-> 1656\u001b[0m     arr \u001b[38;5;241m=\u001b[39m \u001b[38;5;28;43mself\u001b[39;49m\u001b[38;5;241;43m.\u001b[39;49m\u001b[43m_interleave\u001b[49m\u001b[43m(\u001b[49m\u001b[43mdtype\u001b[49m\u001b[38;5;241;43m=\u001b[39;49m\u001b[43mdtype\u001b[49m\u001b[43m,\u001b[49m\u001b[43m \u001b[49m\u001b[43mna_value\u001b[49m\u001b[38;5;241;43m=\u001b[39;49m\u001b[43mna_value\u001b[49m\u001b[43m)\u001b[49m\n\u001b[1;32m   1657\u001b[0m     \u001b[38;5;66;03m# The underlying data was copied within _interleave, so no need\u001b[39;00m\n\u001b[1;32m   1658\u001b[0m     \u001b[38;5;66;03m# to further copy if copy=True or setting na_value\u001b[39;00m\n\u001b[1;32m   1660\u001b[0m \u001b[38;5;28;01mif\u001b[39;00m na_value \u001b[38;5;129;01mis\u001b[39;00m lib\u001b[38;5;241m.\u001b[39mno_default:\n",
      "File \u001b[0;32m/opt/anaconda3/envs/ml-env/lib/python3.10/site-packages/pandas/core/internals/managers.py:1715\u001b[0m, in \u001b[0;36mBlockManager._interleave\u001b[0;34m(self, dtype, na_value)\u001b[0m\n\u001b[1;32m   1713\u001b[0m     \u001b[38;5;28;01melse\u001b[39;00m:\n\u001b[1;32m   1714\u001b[0m         arr \u001b[38;5;241m=\u001b[39m blk\u001b[38;5;241m.\u001b[39mget_values(dtype)\n\u001b[0;32m-> 1715\u001b[0m     \u001b[43mresult\u001b[49m\u001b[43m[\u001b[49m\u001b[43mrl\u001b[49m\u001b[38;5;241;43m.\u001b[39;49m\u001b[43mindexer\u001b[49m\u001b[43m]\u001b[49m \u001b[38;5;241m=\u001b[39m arr\n\u001b[1;32m   1716\u001b[0m     itemmask[rl\u001b[38;5;241m.\u001b[39mindexer] \u001b[38;5;241m=\u001b[39m \u001b[38;5;241m1\u001b[39m\n\u001b[1;32m   1718\u001b[0m \u001b[38;5;28;01mif\u001b[39;00m \u001b[38;5;129;01mnot\u001b[39;00m itemmask\u001b[38;5;241m.\u001b[39mall():\n",
      "\u001b[0;31mValueError\u001b[0m: could not convert string to float: 'blues'"
     ]
    }
   ],
   "source": [
    "# Exclude non-numeric columns but keep 'genre' for grouping\n",
    "numeric_features = combined_data.select_dtypes(include = [int, float]).copy()\n",
    "numeric_features.loc[:,'genre'] = combined_data['genre']\n",
    "\n",
    "# Calculate correlation matrix\n",
    "corr_matrix = numeric_features.corr()\n",
    "\n",
    "# Correlation heatmap\n",
    "plt.figure(figsize = (10,8))\n",
    "sns.heatmap(corr_matrix, annot = True, cmap = 'coolwarm', fmt = '.2f')"
   ]
  },
  {
   "cell_type": "code",
   "execution_count": null,
   "id": "263f3cee-6679-4cda-a9be-f136d55fcfe2",
   "metadata": {
    "tags": []
   },
   "outputs": [],
   "source": [
    "# Histogram of danceability\n",
    "plt.figure(figsize = (10,8))\n",
    "sns.histplot(numeric_features['danceability'], bins = 5, kde = False, color = \"#F673DA\")\n",
    "\n",
    "plt.xlabel(\"Danceability\")\n",
    "plt.ylabel(\"Count\")\n",
    "plt.title(\"Histogram of Danceability\")\n",
    "plt.show()"
   ]
  },
  {
   "cell_type": "markdown",
   "id": "56f79f22-1036-4ae9-90f8-73ad0f6169b0",
   "metadata": {},
   "source": [
    "### Step 3: Check for class imbalance\n",
    "An unequal distribution between the target classes can cause issues for our classifiers, so we'll need to check for that. A commonly used guideline for class imbalance is:\n",
    "\n",
    "- Slight Imbalance (Less than 1.5:1) → Generally okay; no need for balancing.\n",
    "- Moderate Imbalance (Between 1.5:1 and 3:1) → Might cause some bias; balancing can help.\n",
    "- Severe Imbalance (More than 3:1) → Strongly affects model performance; balancing is usually necessary."
   ]
  },
  {
   "cell_type": "code",
   "execution_count": null,
   "id": "1470168c-bd6c-412a-9549-47ff191e8644",
   "metadata": {
    "tags": []
   },
   "outputs": [],
   "source": [
    "# Print counts of each genre\n",
    "class_counts = numeric_features['genre'].value_counts()\n",
    "\n",
    "# Calculate ratio of majority to minority class\n",
    "class_ratio = class_counts.max()/class_counts.min()\n",
    "\n",
    "# Print class distribution and ratio\n",
    "print(f\"The ratio is \", class_ratio,\":1\")\n",
    "print(f\"The class distribution is \", class_counts)"
   ]
  },
  {
   "cell_type": "markdown",
   "id": "a20e289d",
   "metadata": {},
   "source": [
    "Given this result, should we be worried about the imbalance?"
   ]
  },
  {
   "cell_type": "markdown",
   "id": "8d3583ec",
   "metadata": {},
   "source": [
    "*As the class imbalance ratio is approximately 1.47:1, we are in the category of \"slight imbalance\". This means that we do not need to balance.*"
   ]
  },
  {
   "cell_type": "markdown",
   "id": "8a5d0f97",
   "metadata": {},
   "source": [
    "### Step 4: Preprocessing\n",
    "We need to ensure all the variables we use are numerical so the models can process them. First we'll drop all the variables that are not numeric or the target. Then we'll use a sklearn utility, `LabelEncoder()` to encode our categorical target variable into numerical values. Print the first five values of your encoded labels."
   ]
  },
  {
   "cell_type": "code",
   "execution_count": null,
   "id": "6ce674f3",
   "metadata": {
    "tags": []
   },
   "outputs": [],
   "source": [
    "# Define the features (drop columns that are not numeric or target)\n",
    "X = numeric_features.drop('genre', axis =1)\n",
    "\n",
    "# Set the target variable as 'genre'\n",
    "y = numeric_features['genre']\n",
    "\n",
    "# Encode the target variable ('label') using label encoding\n",
    "label_encoder = LabelEncoder()\n",
    "y_encoded = label_encoder.fit_transform(y)\n",
    "\n",
    "# Print first five values of encoded labels\n",
    "print(\"First 5 encoded labels:\", y_encoded[:5])"
   ]
  },
  {
   "cell_type": "markdown",
   "id": "fee85305",
   "metadata": {},
   "source": [
    "Good, now we'll do our data splitting and scaling.  Let's go with an 80/20 split this time."
   ]
  },
  {
   "cell_type": "code",
   "execution_count": null,
   "id": "2a0cf1df",
   "metadata": {
    "tags": []
   },
   "outputs": [],
   "source": [
    "# Split data into 80% train and 20% test\n",
    "X_train, X_test, y_train, y_test = train_test_split(X, y, test_size=0.2, random_state=42)\n",
    "\n",
    "# Initialize the scaler\n",
    "scaler = StandardScaler()\n",
    "\n",
    "# Fit and transform only the training set\n",
    "X_train_scaled = scaler.fit_transform(X_train)\n",
    "\n",
    "# Use the same scaler to transform the test set\n",
    "X_test_scaled = scaler.transform(X_test)"
   ]
  },
  {
   "cell_type": "markdown",
   "id": "d74c0a3c-c1b9-438a-8e44-5654e6406f6d",
   "metadata": {},
   "source": [
    "### Step 5: Train the models\n",
    "OK, now it's time to build our models and assess the training accuracy. We'll use the default of k = 5 for the KNN model."
   ]
  },
  {
   "cell_type": "code",
   "execution_count": null,
   "id": "3f88e4c7",
   "metadata": {
    "tags": []
   },
   "outputs": [],
   "source": [
    "# Initialize models\n",
    "knn = KNeighborsClassifier(n_neighbors = 5)\n",
    "dt = DecisionTreeClassifier(random_state=42)\n",
    "\n",
    "# Train (fit) both models\n",
    "knn.fit(X_train_scaled, y_train)\n",
    "dt.fit(X_train_scaled, y_train)\n",
    "\n",
    "# Predictions on training data\n",
    "knn_y_train_pred = knn.predict(X_train_scaled)\n",
    "dt_y_train_pred = dt.predict(X_train_scaled)\n",
    "\n",
    "# Compute training accuracy\n",
    "knn_train_accuracy = accuracy_score(y_train, knn_y_train_pred)\n",
    "dt_train_accuracy = accuracy_score(y_train, dt_y_train_pred)\n",
    "\n",
    "# Print training accuracy for both models\n",
    "print(\"KNN Training Accuracy:\", knn_train_accuracy)\n",
    "print(\"Decision Tree Training Accuracy:\", dt_train_accuracy)"
   ]
  },
  {
   "cell_type": "markdown",
   "id": "8a0ec565",
   "metadata": {},
   "source": [
    "### Step 6: Evaluate models\n",
    "OK, now let's go ahead and predict on the test data to see how well our models do at predicting the genre of unseen tracks."
   ]
  },
  {
   "cell_type": "code",
   "execution_count": null,
   "id": "b1ce64ad",
   "metadata": {
    "tags": []
   },
   "outputs": [],
   "source": [
    "# Make predictions\n",
    "knn_pred = knn.predict(X_test_scaled)\n",
    "dt_pred = dt.predict(X_test_scaled)\n",
    "\n",
    "# Evaluate prediction accuracy\n",
    "knn_accuracy = accuracy_score(y_test, knn_pred)\n",
    "dt_accuracy = accuracy_score(y_test, dt_pred)\n",
    "\n",
    "# Print training accuracy for both models\n",
    "print(\"KNN Training Accuracy:\", knn_accuracy)\n",
    "print(\"Decision Tree Training Accuracy:\", dt_accuracy)"
   ]
  },
  {
   "cell_type": "markdown",
   "id": "84aed7de",
   "metadata": {},
   "source": [
    "### Step 7: Visualizing Model Performance\n",
    "Now that we have evaluated our models on unseen data, let’s compare their performance by visualizing the training vs. test accuracy.  We'll look for signs of overfitting by plotting the training accuracy and test accuracy for both k-NN and Decision Trees.\n",
    "\n",
    "Create a bar chart that compares the training accuracy and test accuracy for k-NN and Decision Trees. Your plot should clearly display:\n",
    "\n",
    "- The training and test accuracy for both models.\n",
    "- Properly labeled axes and a title.\n",
    "- A legend to differentiate training and test accuracy.\n",
    "- Accuracy values displayed on top of each bar."
   ]
  },
  {
   "cell_type": "code",
   "execution_count": null,
   "id": "8e0b4018-81c7-4b1d-9c2f-83da20365aa7",
   "metadata": {
    "tags": []
   },
   "outputs": [],
   "source": [
    "# Create a df\n",
    "accuracy_df = pd.DataFrame({\n",
    "    'Model': ['KNN', 'KNN', 'Decision Tree', 'Decision Tree'],\n",
    "    'Accuracy': [knn_train_accuracy, knn_accuracy, dt_train_accuracy, dt_accuracy],\n",
    "    'Type': ['Training', 'Test', 'Training', 'Test']\n",
    "})\n",
    "\n",
    "accuracy_df.head()"
   ]
  },
  {
   "cell_type": "code",
   "execution_count": null,
   "id": "ce4efa80",
   "metadata": {
    "tags": []
   },
   "outputs": [],
   "source": [
    "# Create a df\n",
    "accuracy_df = pd.DataFrame({\n",
    "    'Model': ['K Nearest Neighbors', 'K Nearest Neighbors', 'Decision Tree', 'Decision Tree'],\n",
    "    'Accuracy': [knn_train_accuracy, knn_accuracy, dt_train_accuracy, dt_accuracy],\n",
    "    'Type': ['Training', 'Test', 'Training', 'Test']\n",
    "})\n",
    "\n",
    "# Make a bar chart\n",
    "plt.figure(figsize = (10,8))\n",
    "ax = sns.barplot(data = accuracy_df, x ='Model', y='Accuracy', hue='Type')\n",
    "plt.title(\"Accuracy of K Nearest Neighbors and Decision Tree Training and Testing Data\")\n",
    "plt.xlabel('Model Type')\n",
    "plt.ylabel('Accuracy')\n",
    "plt.legend()\n",
    "for container in ax.containers:\n",
    "    ax.bar_label(container)\n",
    "plt.show()"
   ]
  },
  {
   "cell_type": "markdown",
   "id": "2bea31ee",
   "metadata": {},
   "source": [
    "Which model does a better job of generalizing to unseen data? How do you know?\n",
    "Does it appear that either of the models are overfitting? Why?"
   ]
  },
  {
   "cell_type": "markdown",
   "id": "7a6ab978",
   "metadata": {},
   "source": [
    "*The KNN model appears to do a better job of generalizing, as there is less of a difference between the accuracy on the training data and the testing data (difference of ~0.029) compared to the difference between the Decision Tree training and testing data (difference of ~0.147). The DT training accuracy model is overfitting as it performs perfectly (1.0 accuracy) on the training data, and less well on the testing data.*"
   ]
  },
  {
   "cell_type": "markdown",
   "id": "d5a1ef02-85ed-4cda-8a51-0568c46931e6",
   "metadata": {},
   "source": [
    "### Bonus question\n",
    "In the workflow above, we used the default parameter values of k = 5 for the KNN model, and maxdepth = None for the Decision Tree. Choose one of the models and see if you can improve test performance by optmizing its corresponding parameter value."
   ]
  },
  {
   "cell_type": "code",
   "execution_count": null,
   "id": "f963c21b-dd82-47af-972c-c473d5c7113a",
   "metadata": {
    "tags": []
   },
   "outputs": [],
   "source": [
    "# Chosing the KNN model for optimization\n",
    "def knn():\n",
    "    \n",
    "    k_values = [1,2,3,4,5,6,7,8,9,10]\n",
    "    accuracies = [ ]\n",
    "    \n",
    "    # Loop through the different k values and fit a model for better accuracy\n",
    "    for k in k_values:\n",
    "        knn = KNeighborsClassifier(n_neighbors = k)\n",
    "        knn.fit(X_train_scaled, y_train)\n",
    "        \n",
    "        # make predictions and calculate accuracy\n",
    "        y_pred = knn.predict(X_test_scaled)\n",
    "        accuracy = accuracy_score(y_test, y_pred)\n",
    "        accuracies.append(accuracy)\n",
    "        \n",
    "        print(f\"K = {k} - Accuracy: {accuracy:.3f}\")\n",
    "        \n",
    "    # Visualize the effect of k on accuracy\n",
    "    plt.figure(figsize = (10,6))\n",
    "    plt.plot(k_values, accuracies, marker = 'o')\n",
    "    plt.xlabel('Number of Neighbors')\n",
    "    plt.ylabel('Accuracy')\n",
    "    plt.title('KNN: Effect of K on Model Accuracy')\n",
    "    plt.grid(True)\n",
    "    plt.show()\n",
    "    \n",
    "knn()"
   ]
  },
  {
   "cell_type": "markdown",
   "id": "b5c505ef-6aee-423c-a0f2-58dc2a7a6863",
   "metadata": {},
   "source": [
    "It looks like k = 5, 7, and 9 provide the highest accuracy with 0.893"
   ]
  },
  {
   "cell_type": "markdown",
   "id": "29d196dd",
   "metadata": {},
   "source": [
    "### Bonus question\n",
    "\n",
    "In the workflow above, we used the default parameter values of `k = 5` for the KNN model, and `maxdepth = None` for the Decision Tree.  Choose one of the models and see if you can improve test performance by optmizing its corresponding parameter value."
   ]
  },
  {
   "cell_type": "markdown",
   "id": "d8de64c2",
   "metadata": {},
   "source": []
  }
 ],
 "metadata": {
  "kernelspec": {
   "display_name": "Anaconda 3 (EDS232)",
   "language": "python",
   "name": "ml-env"
  },
  "language_info": {
   "codemirror_mode": {
    "name": "ipython",
    "version": 3
   },
   "file_extension": ".py",
   "mimetype": "text/x-python",
   "name": "python",
   "nbconvert_exporter": "python",
   "pygments_lexer": "ipython3",
   "version": "3.10.16"
  }
 },
 "nbformat": 4,
 "nbformat_minor": 5
}
