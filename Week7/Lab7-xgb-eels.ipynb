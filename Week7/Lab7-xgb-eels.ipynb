{
 "cells": [
  {
   "cell_type": "markdown",
   "id": "b6e8c422-cc19-4d89-8f96-003c36cf7c33",
   "metadata": {},
   "source": [
    "## Lab 7: Eel Distribution Modeling with XGBoost\n",
    "\n",
    "Author: Eva Newby\n",
    "\n",
    "**Reference Paper:** [Elith et al. (2008)](https://ucsb.box.com/s/6k7636wsbogdg3orarxrlowke0ounbic)\n",
    "\n",
    "In this lab, you will model the distribution of the eel species *Anguilla australis* using **boosted classification trees (BCTs)**, a machine learning technique that improves predictive performance by combining multiple decision trees. Elith et al. (2008) offered an early implementation of BRTs in an ecological setting to understand how environmental variables influence eel distribution.\n",
    "\n",
    "You will work with **two datasets**:\n",
    "1. **Training Data** – Used to build and evaluate your XGBoost model.\n",
    "2. **Evaluation Data** – Used to assess model performance on unseen data.\n",
    "\n",
    "To achieve the following objectives:\n",
    "- Train and fine-tune an **XGBoost** model for classification of species presence/absence data.\n",
    "- Compare your model’s performance to the approach used by Elith et al.\n",
    "\n",
    "\n",
    "**Wherever applicable in this lab, use a random state of 808.**"
   ]
  },
  {
   "cell_type": "markdown",
   "id": "ac39e743-8686-4f51-85ee-7c1925002f5f",
   "metadata": {},
   "source": [
    "### Step 0: Load libraries and data\n"
   ]
  },
  {
   "cell_type": "code",
   "execution_count": 15,
   "id": "dd687480-182a-4416-9cdd-10eb33d147d1",
   "metadata": {
    "tags": []
   },
   "outputs": [],
   "source": [
    "import pandas as pd\n",
    "from sklearn.model_selection import train_test_split,RandomizedSearchCV\n",
    "from sklearn.preprocessing import LabelEncoder\n",
    "import xgboost as xgb\n",
    "from xgboost import XGBClassifier\n",
    "from sklearn.metrics import roc_auc_score\n",
    "from scipy.stats import uniform, randint\n",
    "\n",
    "# Download the datasets\n",
    "model_data = pd.read_csv(\"/courses/EDS232/Data/model.data.csv\").drop(columns=['Site'])\n",
    "eval_data = pd.read_csv(\"/courses/EDS232/Data/eval.data.csv\")"
   ]
  },
  {
   "cell_type": "markdown",
   "id": "21e16c25",
   "metadata": {},
   "source": [
    "### Step 1:Initial Data Preprocessing\n",
    "Let's get started by preparing our data. `Angaus` will be our target variable(`y`), and all other variables will be our features (`X`). Then encode the categorical feature using `LabelEncoder()`. The final step will be a bit different this time.  We don't need to split off testing data for the final model evaluation; a separate set (`eval_data`) will be used as in Elith et al.  We do, however, need to split our data in order to do the early stopping process. When splitting your data into training and validation, use a test size of 0.2 and a random state of 808. "
   ]
  },
  {
   "cell_type": "code",
   "execution_count": 24,
   "id": "92f8a3c0",
   "metadata": {
    "tags": []
   },
   "outputs": [
    {
     "name": "stdout",
     "output_type": "stream",
     "text": [
      "<class 'pandas.core.frame.DataFrame'>\n",
      "RangeIndex: 1000 entries, 0 to 999\n",
      "Data columns (total 13 columns):\n",
      " #   Column      Non-Null Count  Dtype  \n",
      "---  ------      --------------  -----  \n",
      " 0   Angaus      1000 non-null   int64  \n",
      " 1   SegSumT     1000 non-null   float64\n",
      " 2   SegTSeas    1000 non-null   float64\n",
      " 3   SegLowFlow  1000 non-null   float64\n",
      " 4   DSDist      1000 non-null   float64\n",
      " 5   DSMaxSlope  1000 non-null   float64\n",
      " 6   USAvgT      1000 non-null   float64\n",
      " 7   USRainDays  1000 non-null   float64\n",
      " 8   USSlope     1000 non-null   float64\n",
      " 9   USNative    1000 non-null   float64\n",
      " 10  DSDam       1000 non-null   int64  \n",
      " 11  Method      1000 non-null   object \n",
      " 12  LocSed      824 non-null    float64\n",
      "dtypes: float64(10), int64(2), object(1)\n",
      "memory usage: 101.7+ KB\n",
      "None\n",
      "Index(['Angaus', 'SegSumT', 'SegTSeas', 'SegLowFlow', 'DSDist', 'DSMaxSlope',\n",
      "       'USAvgT', 'USRainDays', 'USSlope', 'USNative', 'DSDam', 'Method',\n",
      "       'LocSed'],\n",
      "      dtype='object')\n",
      "Categorical columns: Index(['Method'], dtype='object')\n"
     ]
    }
   ],
   "source": [
    "# separate target and features\n",
    "y = model_data['Angaus'] # target variable\n",
    "X = model_data.loc[:, model_data.columns != 'Angaus'] # features\n",
    "\n",
    "# View column names\n",
    "print(model_data.info())\n",
    "\n",
    "# Print all column names\n",
    "print(model_data.columns)\n",
    "\n",
    "# Print categorical column\n",
    "print(\"Categorical columns:\", model_data.select_dtypes(include=['object']).columns)\n",
    "\n",
    "# Encode categorical features\n",
    "cat_feat = 'Method'\n",
    "le = LabelEncoder()\n",
    "X.loc[:,  cat_feat] = le.fit_transform(X.loc[:, cat_feat])\n",
    "\n",
    "# split data into testing and validation\n",
    "X_train, X_val, y_train, y_val = train_test_split(X, y, test_size=0.2, random_state=808)"
   ]
  },
  {
   "cell_type": "markdown",
   "id": "e025a34e",
   "metadata": {},
   "source": [
    "### Step 2: Determine best number of trees using early stopping\n",
    "As a guard against overfitting while maximizing performance, we use **early stopping**. We start with a large number of trees and allow XGBoost to determine the optimal number by stopping training when the validation error no longer improves.\n",
    "\n",
    "The choice of hyperparameter starting values is important in this process. We begin with:\n",
    "- `n_estimators=1000` to ensure the model has enough capacity to learn meaningful patterns.\n",
    "- `learning_rate=0.1` as a reasonable default that balances learning speed and performance.\n",
    "- `eval_metric=\"logloss\"` as the metric of performance to optimize.\n",
    "- `early_stopping_rounds=50` to halt training if no improvement is seen for 50 rounds, preventing unnecessary computations.\n",
    "- `random_state = 808`\n",
    "\n",
    "We then `fit()` our specified baseline model, passing in the training sets as usual and specifying validation sets values for the `eval_set` parameter.\n",
    "\n",
    "Finally, get and print the best number of trees from the fitted baseline model.\n"
   ]
  },
  {
   "cell_type": "code",
   "execution_count": 31,
   "id": "55bf0fa0",
   "metadata": {
    "tags": []
   },
   "outputs": [
    {
     "name": "stdout",
     "output_type": "stream",
     "text": [
      "[0]\tvalidation_0-logloss:0.64173\n",
      "[1]\tvalidation_0-logloss:0.59874\n",
      "[2]\tvalidation_0-logloss:0.56352\n",
      "[3]\tvalidation_0-logloss:0.53716\n",
      "[4]\tvalidation_0-logloss:0.51702\n",
      "[5]\tvalidation_0-logloss:0.50016\n",
      "[6]\tvalidation_0-logloss:0.48135\n",
      "[7]\tvalidation_0-logloss:0.46672\n",
      "[8]\tvalidation_0-logloss:0.45634\n",
      "[9]\tvalidation_0-logloss:0.44405\n",
      "[10]\tvalidation_0-logloss:0.43728\n",
      "[11]\tvalidation_0-logloss:0.42904\n",
      "[12]\tvalidation_0-logloss:0.41955\n",
      "[13]\tvalidation_0-logloss:0.41371\n",
      "[14]\tvalidation_0-logloss:0.40708\n",
      "[15]\tvalidation_0-logloss:0.40332\n",
      "[16]\tvalidation_0-logloss:0.39853\n",
      "[17]\tvalidation_0-logloss:0.39618\n",
      "[18]\tvalidation_0-logloss:0.39130\n",
      "[19]\tvalidation_0-logloss:0.38952\n",
      "[20]\tvalidation_0-logloss:0.38569\n",
      "[21]\tvalidation_0-logloss:0.38372\n",
      "[22]\tvalidation_0-logloss:0.37811\n",
      "[23]\tvalidation_0-logloss:0.37809\n",
      "[24]\tvalidation_0-logloss:0.37631\n",
      "[25]\tvalidation_0-logloss:0.37448\n",
      "[26]\tvalidation_0-logloss:0.37215\n",
      "[27]\tvalidation_0-logloss:0.37295\n",
      "[28]\tvalidation_0-logloss:0.37361\n",
      "[29]\tvalidation_0-logloss:0.37298\n",
      "[30]\tvalidation_0-logloss:0.37111\n",
      "[31]\tvalidation_0-logloss:0.36678\n",
      "[32]\tvalidation_0-logloss:0.36474\n",
      "[33]\tvalidation_0-logloss:0.36441\n",
      "[34]\tvalidation_0-logloss:0.36178\n",
      "[35]\tvalidation_0-logloss:0.36257\n",
      "[36]\tvalidation_0-logloss:0.36204\n",
      "[37]\tvalidation_0-logloss:0.36236\n",
      "[38]\tvalidation_0-logloss:0.36360\n",
      "[39]\tvalidation_0-logloss:0.36289\n",
      "[40]\tvalidation_0-logloss:0.36378\n",
      "[41]\tvalidation_0-logloss:0.36328\n",
      "[42]\tvalidation_0-logloss:0.36317\n",
      "[43]\tvalidation_0-logloss:0.36350\n",
      "[44]\tvalidation_0-logloss:0.36341\n",
      "[45]\tvalidation_0-logloss:0.36350\n",
      "[46]\tvalidation_0-logloss:0.36414\n",
      "[47]\tvalidation_0-logloss:0.36552\n",
      "[48]\tvalidation_0-logloss:0.36637\n",
      "[49]\tvalidation_0-logloss:0.36420\n",
      "[50]\tvalidation_0-logloss:0.36479\n",
      "[51]\tvalidation_0-logloss:0.36663\n",
      "[52]\tvalidation_0-logloss:0.36640\n",
      "[53]\tvalidation_0-logloss:0.36630\n",
      "[54]\tvalidation_0-logloss:0.36706\n",
      "[55]\tvalidation_0-logloss:0.36776\n",
      "[56]\tvalidation_0-logloss:0.36805\n",
      "[57]\tvalidation_0-logloss:0.36718\n",
      "[58]\tvalidation_0-logloss:0.36727\n",
      "[59]\tvalidation_0-logloss:0.36867\n",
      "[60]\tvalidation_0-logloss:0.36933\n",
      "[61]\tvalidation_0-logloss:0.36911\n",
      "[62]\tvalidation_0-logloss:0.36886\n",
      "[63]\tvalidation_0-logloss:0.36849\n",
      "[64]\tvalidation_0-logloss:0.36910\n",
      "[65]\tvalidation_0-logloss:0.36992\n",
      "[66]\tvalidation_0-logloss:0.36991\n",
      "[67]\tvalidation_0-logloss:0.37017\n",
      "[68]\tvalidation_0-logloss:0.37117\n",
      "[69]\tvalidation_0-logloss:0.37183\n",
      "[70]\tvalidation_0-logloss:0.37184\n",
      "[71]\tvalidation_0-logloss:0.37326\n",
      "[72]\tvalidation_0-logloss:0.37371\n",
      "[73]\tvalidation_0-logloss:0.37386\n",
      "[74]\tvalidation_0-logloss:0.37340\n",
      "[75]\tvalidation_0-logloss:0.37504\n",
      "[76]\tvalidation_0-logloss:0.37641\n",
      "[77]\tvalidation_0-logloss:0.37706\n",
      "[78]\tvalidation_0-logloss:0.37773\n",
      "[79]\tvalidation_0-logloss:0.37839\n",
      "[80]\tvalidation_0-logloss:0.38038\n",
      "[81]\tvalidation_0-logloss:0.38096\n",
      "[82]\tvalidation_0-logloss:0.38221\n",
      "[83]\tvalidation_0-logloss:0.38273\n",
      "[84]\tvalidation_0-logloss:0.38356\n",
      "Best number of trees: 35\n"
     ]
    }
   ],
   "source": [
    "# Create baseline model\n",
    "baseline = XGBClassifier(n_estimators=1000,\n",
    "                         learning_rate=0.1,\n",
    "                         eval_metric=\"logloss\",\n",
    "                         random_state = 808)\n",
    "\n",
    "# Fit model\n",
    "baseline.fit(X_train, y_train,\n",
    "            eval_set = [(X_val,  y_val)],\n",
    "            early_stopping_rounds=50,\n",
    "            verbose = True)\n",
    "\n",
    "# Find and print the best number of trees from fitted baseline model\n",
    "print(\"Best number of trees:\", baseline.best_iteration + 1)"
   ]
  },
  {
   "cell_type": "markdown",
   "id": "95ac1456",
   "metadata": {},
   "source": [
    "### Step 3: Tune Learning Rate\n",
    "\n",
    "The (`learning_rate` hyperparameter controls how much each tree contributes to improving the model's performance. A *higher* learning rate allows the model to learn quickly but risks missing the optimal solution and overfitting, while a *lower* learning rate makes learning slower but can improve generalization.\n",
    "\n",
    "To find the optimal value, we'll use **randomized search cross-validation** (`RandomizedSearchCV`) to test different learning rates in the 0.01 to 0.3 range. Instead of testing every possible value, this method samples a set number of candidates (`n_iter`) from a defined parameter distribution.  In this case, sampling 20 candidates from a uniform distribution between `0.01` and `0.31`. Check out the [documentation](https://docs.scipy.org/doc/scipy/reference/generated/scipy.stats.uniform.html) on `scipy.stats.uniform` to see how it differs from `random.uniform`. Be sure to use a random state of 808.\n",
    "\n",
    "After using `RandomizedSearchCV`, fit your model. Print the best learning rate. \n"
   ]
  },
  {
   "cell_type": "code",
   "execution_count": null,
   "id": "393b5c0b-b212-440b-a052-0c9a7e406b0f",
   "metadata": {
    "tags": []
   },
   "outputs": [],
   "source": [
    "# build parameter distribution\n",
    "param_dist = {'learning_rate': uniform(loc = 0.01, scale = 0.3)}\n",
    "\n",
    "# Set up RandomizedSearchCV to sample 20 candidates using 3-fold cross-validation.\n",
    "random_search = RandomizedSearchCV(estimator=baseline, # should i use the basline model here HELP ME HERE PLEASE EVAAAAAAAAAAAA\n",
    "                                   param_distributions=param_dist,\n",
    "                                   n_iter=20,\n",
    "                                   scoring='roc_auc',  # scoring metric can be adjusted as needed\n",
    "                                   cv=3,\n",
    "                                   random_state=808,\n",
    "                                   verbose=1)\n",
    "\n",
    "# Fit the randomized search using the training data.\n",
    "random_search.fit(X_train, y_train,\n",
    "                  eval_set=[(X_val, y_val)],\n",
    "                  early_stopping_rounds=50,\n",
    "                  verbose=False)\n",
    "\n",
    "# Print the best learning rate found.\n",
    "print(\"Best learning rate:\", random_search.best_params_['learning_rate'])"
   ]
  },
  {
   "cell_type": "markdown",
   "id": "71907b11",
   "metadata": {},
   "source": [
    "### Step 4: Tune Tree-Specific Parameters\n",
    "\n",
    "Now that we've determined the best number of tree and learning rate, we need to tune the complexity of individual trees in our model. Initialize your model with the best number of trees and learning rate.Then, define a parameter dictionary that takes on the following values:  \n",
    "\n",
    "- `max_depth`(Controls how deep each tree can grow.  Takes integer values): A random integer from 3 to 10 ( inclusive of 3 and 10)\n",
    "- `min_child_weight`( Determines the minimum number of samples required in a leaf node. Takes integer values) : A random integer from 1 to 10 ( inclusive of 1 and 10)\n",
    "- `gamma` (Defines the minimum loss reduction needed to make a further split in a tree. Can take on values from a continuous range):  A uniform distribution from 0.05 to 0.10 - once again remember to check the `scipy.stats.uniform()` documentation! \n",
    "- `random_state = 808`\n",
    "\n",
    "To find the best combination, we again use `RandomizedSearchCV`, allowing us to efficiently sample hyperparameters and evaluate different configurations using cross-validation. After fitting the model, print the best parameters. \n",
    "\n"
   ]
  },
  {
   "cell_type": "code",
   "execution_count": null,
   "id": "95c411a3",
   "metadata": {
    "tags": []
   },
   "outputs": [],
   "source": [
    "#  Initialize model with the best number of trees and learning rate\n",
    "optimal_model = XBGClassifier(n_estimators = random_search.best_estimator_.n_estimators,\n",
    "                              learning_rate=random_search.best_params_['learning_rate'],\n",
    "                              eval_metric=\"logloss\",\n",
    "                              random_state=808)\n",
    "\n",
    "# define a parameter dictionary\n",
    "paramaters  = {'max_depth': randint(3,11),\n",
    "              'min_child_weight': randint(1, 11),\n",
    "              'gamma': uniform(0.05, 0.05)}\n",
    "\n",
    "# find best combo\n",
    "random_search  = RandomizedSearchCV(estimator=optimal_model,\n",
    "                                   param_distributions=parameters,\n",
    "                                   n_iter=20,\n",
    "                                   scoring='roc_auc',  # scoring metric can be adjusted as needed\n",
    "                                   cv=3,\n",
    "                                   random_state=808,\n",
    "                                   verbose=1)\n",
    "\n",
    "# Fit to training data\n",
    "random_search.fit(X_train, y_train,\n",
    "                 eval_set=[(X_val, y_val)],\n",
    "                 early_stopping_rounds = 50,\n",
    "                 verbose=False)\n",
    "\n",
    "# Print the best parameters\n",
    "print(f\"Best parameters: {random_search.best_params_}\")"
   ]
  },
  {
   "cell_type": "markdown",
   "id": "2168bf81",
   "metadata": {},
   "source": [
    "### Step 5: Tune Stochastic Components\n",
    "\n",
    "Now, we are finally ready to tune the stochastic components of the XGBoost model.  These parameters help prevent overfitting by reducing correlation between trees. Initialize your model with the best number of trees, best learning rate,and your optimized tree values (**Note**: you can use \\**best_tree_parameters to unpack the the dictionary of optimzed tree values) .Then, define a parameter dictionary that takes on the following values:  \n",
    "\n",
    "- `subsample` (Controls the fraction of training samples used for each boosting round) : A uniform distribution between .5 and .10 (remeber to check `scipy.stats.uniform()` documentation! )\n",
    "- `colsample_bytree`(Specifies the fraction of features to consider when building each tree) : A uniform distribution between .5 and .10\n",
    "- `random_state = 808`\n",
    "\n",
    "We again use `RandomizedSearchCV` to find the best combination of these parameters. After fitting the model, print the best parameters. \n"
   ]
  },
  {
   "cell_type": "code",
   "execution_count": null,
   "id": "32a61aee-57b1-470b-aa07-488dbe70f898",
   "metadata": {
    "tags": []
   },
   "outputs": [],
   "source": []
  },
  {
   "cell_type": "markdown",
   "id": "355cd2d2",
   "metadata": {},
   "source": [
    "### Step 6: Final Model Training and Evaluation\n",
    "\n",
    "With the best hyperparameters selected, we now train the final model on the full training dataset and evaluate it on the separate evaluation dataset.\n",
    "\n",
    "1. Prepare the evaluation data in the same manner as you did the training data\n",
    "\n",
    "2. Train final model using the best parameters found in previous tuning steps (`best_tree_params`, `best_stochastic_params`).Set  `eval_metric = \"logloss\"` \n",
    "\n",
    "3. Fit the model to the full training dataset and predict on the evaluation data \n"
   ]
  },
  {
   "cell_type": "code",
   "execution_count": null,
   "id": "b68c8624-942b-4d1b-a665-77ca99685186",
   "metadata": {
    "scrolled": true,
    "tags": []
   },
   "outputs": [],
   "source": []
  },
  {
   "cell_type": "markdown",
   "id": "1f39d80a",
   "metadata": {},
   "source": [
    "### Step 7: Model Performance\n",
    "\n",
    "Compute and print the AUC and feature importances for your model."
   ]
  },
  {
   "cell_type": "code",
   "execution_count": null,
   "id": "cc9df468",
   "metadata": {
    "tags": []
   },
   "outputs": [],
   "source": []
  },
  {
   "cell_type": "markdown",
   "id": "7476ef1d",
   "metadata": {},
   "source": [
    "### Step 8: The comparison\n",
    "How does your model's performance compare to the of Elith et al. (See Tables 2 and 3)?  Is there another way to compare the models in addition to predictive performance?  Whose model wins in that regard?"
   ]
  },
  {
   "cell_type": "markdown",
   "id": "07dc2a69-bf1e-4442-ad9e-22dc26e0f2b3",
   "metadata": {
    "tags": []
   },
   "source": [
    "*Your answer here*"
   ]
  }
 ],
 "metadata": {
  "kernelspec": {
   "display_name": "Python 3 (ipykernel)",
   "language": "python",
   "name": "python3"
  },
  "language_info": {
   "codemirror_mode": {
    "name": "ipython",
    "version": 3
   },
   "file_extension": ".py",
   "mimetype": "text/x-python",
   "name": "python",
   "nbconvert_exporter": "python",
   "pygments_lexer": "ipython3",
   "version": "3.7.13"
  }
 },
 "nbformat": 4,
 "nbformat_minor": 5
}
