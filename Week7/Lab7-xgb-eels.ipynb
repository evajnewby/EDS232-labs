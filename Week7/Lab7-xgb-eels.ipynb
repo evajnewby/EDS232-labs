{
 "cells": [
  {
   "cell_type": "markdown",
   "id": "b6e8c422-cc19-4d89-8f96-003c36cf7c33",
   "metadata": {},
   "source": [
    "## Lab 7: Eel Distribution Modeling with XGBoost\n",
    "\n",
    "Author: Eva Newby\n",
    "\n",
    "**Reference Paper:** [Elith et al. (2008)](https://ucsb.box.com/s/6k7636wsbogdg3orarxrlowke0ounbic)\n",
    "\n",
    "In this lab, you will model the distribution of the eel species *Anguilla australis* using **boosted classification trees (BCTs)**, a machine learning technique that improves predictive performance by combining multiple decision trees. Elith et al. (2008) offered an early implementation of BRTs in an ecological setting to understand how environmental variables influence eel distribution.\n",
    "\n",
    "You will work with **two datasets**:\n",
    "1. **Training Data** – Used to build and evaluate your XGBoost model.\n",
    "2. **Evaluation Data** – Used to assess model performance on unseen data.\n",
    "\n",
    "To achieve the following objectives:\n",
    "- Train and fine-tune an **XGBoost** model for classification of species presence/absence data.\n",
    "- Compare your model’s performance to the approach used by Elith et al.\n",
    "\n",
    "\n",
    "**Wherever applicable in this lab, use a random state of 808.**"
   ]
  },
  {
   "cell_type": "markdown",
   "id": "ac39e743-8686-4f51-85ee-7c1925002f5f",
   "metadata": {},
   "source": [
    "### Step 0: Load libraries and data\n"
   ]
  },
  {
   "cell_type": "code",
   "execution_count": 1,
   "id": "dd687480-182a-4416-9cdd-10eb33d147d1",
   "metadata": {
    "tags": []
   },
   "outputs": [],
   "source": [
    "import pandas as pd\n",
    "from sklearn.model_selection import train_test_split,RandomizedSearchCV\n",
    "from sklearn.preprocessing import LabelEncoder\n",
    "import xgboost as xgb\n",
    "from xgboost import XGBClassifier\n",
    "from sklearn.metrics import roc_auc_score\n",
    "from scipy.stats import uniform, randint\n",
    "\n",
    "# Download the datasets\n",
    "model_data = pd.read_csv(\"/courses/EDS232/Data/model.data.csv\").drop(columns=['Site'])\n",
    "eval_data = pd.read_csv(\"/courses/EDS232/Data/eval.data.csv\")"
   ]
  },
  {
   "cell_type": "markdown",
   "id": "21e16c25",
   "metadata": {},
   "source": [
    "### Step 1:Initial Data Preprocessing\n",
    "Let's get started by preparing our data. `Angaus` will be our target variable(`y`), and all other variables will be our features (`X`). Then encode the categorical feature using `LabelEncoder()`. The final step will be a bit different this time.  We don't need to split off testing data for the final model evaluation; a separate set (`eval_data`) will be used as in Elith et al.  We do, however, need to split our data in order to do the early stopping process. When splitting your data into training and validation, use a test size of 0.2 and a random state of 808. "
   ]
  },
  {
   "cell_type": "code",
   "execution_count": 2,
   "id": "92f8a3c0",
   "metadata": {
    "tags": []
   },
   "outputs": [
    {
     "name": "stdout",
     "output_type": "stream",
     "text": [
      "<class 'pandas.core.frame.DataFrame'>\n",
      "RangeIndex: 1000 entries, 0 to 999\n",
      "Data columns (total 13 columns):\n",
      " #   Column      Non-Null Count  Dtype  \n",
      "---  ------      --------------  -----  \n",
      " 0   Angaus      1000 non-null   int64  \n",
      " 1   SegSumT     1000 non-null   float64\n",
      " 2   SegTSeas    1000 non-null   float64\n",
      " 3   SegLowFlow  1000 non-null   float64\n",
      " 4   DSDist      1000 non-null   float64\n",
      " 5   DSMaxSlope  1000 non-null   float64\n",
      " 6   USAvgT      1000 non-null   float64\n",
      " 7   USRainDays  1000 non-null   float64\n",
      " 8   USSlope     1000 non-null   float64\n",
      " 9   USNative    1000 non-null   float64\n",
      " 10  DSDam       1000 non-null   int64  \n",
      " 11  Method      1000 non-null   object \n",
      " 12  LocSed      824 non-null    float64\n",
      "dtypes: float64(10), int64(2), object(1)\n",
      "memory usage: 101.7+ KB\n",
      "None\n",
      "Index(['Angaus', 'SegSumT', 'SegTSeas', 'SegLowFlow', 'DSDist', 'DSMaxSlope',\n",
      "       'USAvgT', 'USRainDays', 'USSlope', 'USNative', 'DSDam', 'Method',\n",
      "       'LocSed'],\n",
      "      dtype='object')\n",
      "Categorical columns: Index(['Method'], dtype='object')\n"
     ]
    }
   ],
   "source": [
    "# separate target and features\n",
    "y = model_data['Angaus'] # target variable\n",
    "X = model_data.loc[:, model_data.columns != 'Angaus'] # features\n",
    "\n",
    "# View column names\n",
    "print(model_data.info())\n",
    "\n",
    "# Print all column names\n",
    "print(model_data.columns)\n",
    "\n",
    "# Print categorical column\n",
    "print(\"Categorical columns:\", model_data.select_dtypes(include=['object']).columns)\n",
    "\n",
    "# Encode categorical features\n",
    "cat_feat = 'Method'\n",
    "le = LabelEncoder()\n",
    "X.loc[:,  cat_feat] = le.fit_transform(X.loc[:, cat_feat])\n",
    "\n",
    "# split data into testing and validation\n",
    "X_train, X_val, y_train, y_val = train_test_split(X, y, test_size=0.2, random_state=808)"
   ]
  },
  {
   "cell_type": "markdown",
   "id": "e025a34e",
   "metadata": {},
   "source": [
    "### Step 2: Determine best number of trees using early stopping\n",
    "As a guard against overfitting while maximizing performance, we use **early stopping**. We start with a large number of trees and allow XGBoost to determine the optimal number by stopping training when the validation error no longer improves.\n",
    "\n",
    "The choice of hyperparameter starting values is important in this process. We begin with:\n",
    "- `n_estimators=1000` to ensure the model has enough capacity to learn meaningful patterns.\n",
    "- `learning_rate=0.1` as a reasonable default that balances learning speed and performance.\n",
    "- `eval_metric=\"logloss\"` as the metric of performance to optimize.\n",
    "- `early_stopping_rounds=50` to halt training if no improvement is seen for 50 rounds, preventing unnecessary computations.\n",
    "- `random_state = 808`\n",
    "\n",
    "We then `fit()` our specified baseline model, passing in the training sets as usual and specifying validation sets values for the `eval_set` parameter.\n",
    "\n",
    "Finally, get and print the best number of trees from the fitted baseline model.\n"
   ]
  },
  {
   "cell_type": "code",
   "execution_count": 3,
   "id": "55bf0fa0",
   "metadata": {
    "tags": []
   },
   "outputs": [
    {
     "name": "stdout",
     "output_type": "stream",
     "text": [
      "[0]\tvalidation_0-logloss:0.51354\n",
      "[1]\tvalidation_0-logloss:0.48803\n",
      "[2]\tvalidation_0-logloss:0.46738\n",
      "[3]\tvalidation_0-logloss:0.45126\n",
      "[4]\tvalidation_0-logloss:0.43766\n",
      "[5]\tvalidation_0-logloss:0.42555\n",
      "[6]\tvalidation_0-logloss:0.41728\n",
      "[7]\tvalidation_0-logloss:0.40769\n",
      "[8]\tvalidation_0-logloss:0.40082\n",
      "[9]\tvalidation_0-logloss:0.39562\n",
      "[10]\tvalidation_0-logloss:0.39263\n",
      "[11]\tvalidation_0-logloss:0.38984\n",
      "[12]\tvalidation_0-logloss:0.38489\n",
      "[13]\tvalidation_0-logloss:0.38327\n",
      "[14]\tvalidation_0-logloss:0.37803\n",
      "[15]\tvalidation_0-logloss:0.37652\n",
      "[16]\tvalidation_0-logloss:0.37337\n",
      "[17]\tvalidation_0-logloss:0.37156\n",
      "[18]\tvalidation_0-logloss:0.36987\n",
      "[19]\tvalidation_0-logloss:0.36868\n",
      "[20]\tvalidation_0-logloss:0.36809\n",
      "[21]\tvalidation_0-logloss:0.36721\n",
      "[22]\tvalidation_0-logloss:0.36763\n",
      "[23]\tvalidation_0-logloss:0.36570\n",
      "[24]\tvalidation_0-logloss:0.36577\n",
      "[25]\tvalidation_0-logloss:0.36666\n",
      "[26]\tvalidation_0-logloss:0.36559\n",
      "[27]\tvalidation_0-logloss:0.36552\n",
      "[28]\tvalidation_0-logloss:0.36422\n",
      "[29]\tvalidation_0-logloss:0.36380\n",
      "[30]\tvalidation_0-logloss:0.36482\n",
      "[31]\tvalidation_0-logloss:0.36468\n",
      "[32]\tvalidation_0-logloss:0.36540\n",
      "[33]\tvalidation_0-logloss:0.36509\n",
      "[34]\tvalidation_0-logloss:0.36664\n",
      "[35]\tvalidation_0-logloss:0.36620\n",
      "[36]\tvalidation_0-logloss:0.36585\n",
      "[37]\tvalidation_0-logloss:0.36646\n",
      "[38]\tvalidation_0-logloss:0.36736\n",
      "[39]\tvalidation_0-logloss:0.36764\n",
      "[40]\tvalidation_0-logloss:0.36846\n",
      "[41]\tvalidation_0-logloss:0.36805\n",
      "[42]\tvalidation_0-logloss:0.36795\n",
      "[43]\tvalidation_0-logloss:0.36930\n",
      "[44]\tvalidation_0-logloss:0.36916\n",
      "[45]\tvalidation_0-logloss:0.37009\n",
      "[46]\tvalidation_0-logloss:0.36979\n",
      "[47]\tvalidation_0-logloss:0.37037\n",
      "[48]\tvalidation_0-logloss:0.37151\n",
      "[49]\tvalidation_0-logloss:0.37360\n",
      "[50]\tvalidation_0-logloss:0.37525\n",
      "[51]\tvalidation_0-logloss:0.37579\n",
      "[52]\tvalidation_0-logloss:0.37756\n",
      "[53]\tvalidation_0-logloss:0.37736\n",
      "[54]\tvalidation_0-logloss:0.37770\n",
      "[55]\tvalidation_0-logloss:0.37929\n",
      "[56]\tvalidation_0-logloss:0.37880\n",
      "[57]\tvalidation_0-logloss:0.37905\n",
      "[58]\tvalidation_0-logloss:0.37876\n",
      "[59]\tvalidation_0-logloss:0.38100\n",
      "[60]\tvalidation_0-logloss:0.38130\n",
      "[61]\tvalidation_0-logloss:0.38072\n",
      "[62]\tvalidation_0-logloss:0.37987\n",
      "[63]\tvalidation_0-logloss:0.38153\n",
      "[64]\tvalidation_0-logloss:0.38189\n",
      "[65]\tvalidation_0-logloss:0.38174\n",
      "[66]\tvalidation_0-logloss:0.38213\n",
      "[67]\tvalidation_0-logloss:0.38358\n",
      "[68]\tvalidation_0-logloss:0.38207\n",
      "[69]\tvalidation_0-logloss:0.38380\n",
      "[70]\tvalidation_0-logloss:0.38347\n",
      "[71]\tvalidation_0-logloss:0.38185\n",
      "[72]\tvalidation_0-logloss:0.38214\n",
      "[73]\tvalidation_0-logloss:0.38155\n",
      "[74]\tvalidation_0-logloss:0.38143\n",
      "[75]\tvalidation_0-logloss:0.38350\n",
      "[76]\tvalidation_0-logloss:0.38347\n",
      "[77]\tvalidation_0-logloss:0.38398\n",
      "[78]\tvalidation_0-logloss:0.38436\n",
      "[79]\tvalidation_0-logloss:0.38608\n",
      "Best number of trees: 30\n"
     ]
    }
   ],
   "source": [
    "# Use Label Encoder to prepare for baseline model\n",
    "le = LabelEncoder()\n",
    "X_train[\"Method\"] = le.fit_transform(X_train[\"Method\"])\n",
    "X_val[\"Method\"] = le.transform(X_val[\"Method\"])\n",
    "\n",
    "\n",
    "# Create baseline model\n",
    "baseline = XGBClassifier(n_estimators=1000,\n",
    "                         learning_rate=0.1,\n",
    "                         eval_metric=\"logloss\",\n",
    "                         early_stopping_rounds=50,\n",
    "                         random_state = 808)\n",
    "\n",
    "# Fit model\n",
    "baseline.fit(X_train, y_train,\n",
    "            eval_set = [(X_val,  y_val)],\n",
    "            verbose = True)\n",
    "\n",
    "# Find and print the best number of trees from fitted baseline model\n",
    "print(\"Best number of trees:\", baseline.best_iteration + 1)"
   ]
  },
  {
   "cell_type": "markdown",
   "id": "95ac1456",
   "metadata": {},
   "source": [
    "### Step 3: Tune Learning Rate\n",
    "\n",
    "The (`learning_rate` hyperparameter controls how much each tree contributes to improving the model's performance. A *higher* learning rate allows the model to learn quickly but risks missing the optimal solution and overfitting, while a *lower* learning rate makes learning slower but can improve generalization.\n",
    "\n",
    "To find the optimal value, we'll use **randomized search cross-validation** (`RandomizedSearchCV`) to test different learning rates in the 0.01 to 0.3 range. Instead of testing every possible value, this method samples a set number of candidates (`n_iter`) from a defined parameter distribution.  In this case, sampling 20 candidates from a uniform distribution between `0.01` and `0.31`. Check out the [documentation](https://docs.scipy.org/doc/scipy/reference/generated/scipy.stats.uniform.html) on `scipy.stats.uniform` to see how it differs from `random.uniform`. Be sure to use a random state of 808.\n",
    "\n",
    "After using `RandomizedSearchCV`, fit your model. Print the best learning rate. \n"
   ]
  },
  {
   "cell_type": "code",
   "execution_count": 4,
   "id": "393b5c0b-b212-440b-a052-0c9a7e406b0f",
   "metadata": {
    "tags": []
   },
   "outputs": [
    {
     "name": "stdout",
     "output_type": "stream",
     "text": [
      "Fitting 3 folds for each of 20 candidates, totalling 60 fits\n",
      "Best learning rate: 0.17684745215281542\n"
     ]
    }
   ],
   "source": [
    "# build parameter distribution\n",
    "param_dist = {'learning_rate': uniform(loc = 0.01, scale = 0.3)}\n",
    "\n",
    "# Set up RandomizedSearchCV\n",
    "random_search = RandomizedSearchCV(estimator=baseline, # should i use the basline model here HELP ME HERE PLEASE EVAAAAAAAAAAAA\n",
    "                                   param_distributions=param_dist,\n",
    "                                   n_iter=20,\n",
    "                                   scoring='roc_auc',  # scoring metric can be adjusted\n",
    "                                   cv=3,\n",
    "                                   random_state=808,\n",
    "                                   verbose=1)\n",
    "\n",
    "# Fit the randomized search using the training data.\n",
    "random_search.fit(X_train, y_train,\n",
    "                  eval_set=[(X_val, y_val)],\n",
    "                  verbose=False)\n",
    "\n",
    "# Print the best learning rate found.\n",
    "print(\"Best learning rate:\", random_search.best_params_['learning_rate'])"
   ]
  },
  {
   "cell_type": "markdown",
   "id": "71907b11",
   "metadata": {},
   "source": [
    "### Step 4: Tune Tree-Specific Parameters\n",
    "\n",
    "Now that we've determined the best number of tree and learning rate, we need to tune the complexity of individual trees in our model. Initialize your model with the best number of trees and learning rate.Then, define a parameter dictionary that takes on the following values:  \n",
    "\n",
    "- `max_depth`(Controls how deep each tree can grow.  Takes integer values): A random integer from 3 to 10 ( inclusive of 3 and 10)\n",
    "- `min_child_weight`( Determines the minimum number of samples required in a leaf node. Takes integer values) : A random integer from 1 to 10 ( inclusive of 1 and 10)\n",
    "- `gamma` (Defines the minimum loss reduction needed to make a further split in a tree. Can take on values from a continuous range):  A uniform distribution from 0.05 to 0.10 - once again remember to check the `scipy.stats.uniform()` documentation! \n",
    "- `random_state = 808`\n",
    "\n",
    "To find the best combination, we again use `RandomizedSearchCV`, allowing us to efficiently sample hyperparameters and evaluate different configurations using cross-validation. After fitting the model, print the best parameters. \n",
    "\n"
   ]
  },
  {
   "cell_type": "code",
   "execution_count": 5,
   "id": "df1aa8db-7c50-46b7-8c6a-26e6891646c6",
   "metadata": {
    "tags": []
   },
   "outputs": [],
   "source": [
    "#  Initialize model with the best number of trees and learning rate\n",
    "optimal_model = XGBClassifier(n_estimators = random_search.best_estimator_.n_estimators,\n",
    "                              learning_rate = random_search.best_params_['learning_rate'],\n",
    "                              eval_metric = \"logloss\",\n",
    "                              random_state = 808,\n",
    "                              early_stopping_rounds = 50)\n",
    "\n",
    "# define a parameter dictionary\n",
    "parameters  = {'max_depth': randint(3,11),\n",
    "              'min_child_weight': randint(1, 11),\n",
    "              'gamma': uniform(0.05, 0.05)}\n"
   ]
  },
  {
   "cell_type": "code",
   "execution_count": 7,
   "id": "95c411a3",
   "metadata": {
    "tags": []
   },
   "outputs": [
    {
     "name": "stdout",
     "output_type": "stream",
     "text": [
      "Fitting 3 folds for each of 20 candidates, totalling 60 fits\n",
      "The best parameters are: {'gamma': 0.057515662635219456, 'max_depth': 5, 'min_child_weight': 8}\n"
     ]
    }
   ],
   "source": [
    "# find best combo\n",
    "random_search  = RandomizedSearchCV(estimator = optimal_model,\n",
    "                                   param_distributions = parameters,\n",
    "                                   n_iter = 20,\n",
    "                                   scoring = 'roc_auc',  # scoring metric can be adjusted as needed\n",
    "                                   cv = 3,\n",
    "                                   random_state = 808,\n",
    "                                   verbose = 1)\n",
    "\n",
    "# Fit to training data\n",
    "random_search.fit(X_train, y_train,\n",
    "                 eval_set=[(X_val, y_val)],\n",
    "                 verbose=False)\n",
    "\n",
    "# Print the best parameters\n",
    "print(f\"The best parameters are: {random_search.best_params_}\")"
   ]
  },
  {
   "cell_type": "markdown",
   "id": "2168bf81",
   "metadata": {},
   "source": [
    "### Step 5: Tune Stochastic Components\n",
    "\n",
    "Now, we are finally ready to tune the stochastic components of the XGBoost model.  These parameters help prevent overfitting by reducing correlation between trees. Initialize your model with the best number of trees, best learning rate,and your optimized tree values (**Note**: you can use \\**best_tree_parameters to unpack the the dictionary of optimzed tree values) .Then, define a parameter dictionary that takes on the following values:  \n",
    "\n",
    "- `subsample` (Controls the fraction of training samples used for each boosting round) : A uniform distribution between .5 and .10 (remeber to check `scipy.stats.uniform()` documentation! )\n",
    "- `colsample_bytree`(Specifies the fraction of features to consider when building each tree) : A uniform distribution between .5 and .10\n",
    "- `random_state = 808`\n",
    "\n",
    "We again use `RandomizedSearchCV` to find the best combination of these parameters. After fitting the model, print the best parameters. \n"
   ]
  },
  {
   "cell_type": "code",
   "execution_count": 17,
   "id": "32a61aee-57b1-470b-aa07-488dbe70f898",
   "metadata": {
    "tags": []
   },
   "outputs": [
    {
     "name": "stdout",
     "output_type": "stream",
     "text": [
      "Best stochastic parameters: {'colsample_bytree': 0.6942829665136268, 'random_state': 808, 'subsample': 0.9521592237481618}\n"
     ]
    }
   ],
   "source": [
    "# Add values in from previous steps\n",
    "best_n_trees = 30     # best number of trees\n",
    "best_lr = 0.17684745215281542        # best learning rate\n",
    "best_tree_parameters = {\n",
    "    'max_depth': 5,\n",
    "    'min_child_weight': 8,\n",
    "    'gamma': 0.057515662635219456\n",
    "}\n",
    "\n",
    "# Initialize Model for Tuning\n",
    "tuning_model = XGBClassifier(n_estimators = best_n_trees,\n",
    "                            learning_rate = best_lr,\n",
    "                             **best_tree_parameters,\n",
    "                            random_state = 808)\n",
    "\n",
    "# Parameter dictionary\n",
    "param_dict = {'subsample': uniform(loc=0.5, scale=0.5),\n",
    "              'colsample_bytree': uniform(loc=0.5, scale=0.5),\n",
    "              'random_state': [808]}\n",
    "\n",
    "# Initialize randomized search\n",
    "random_search_tuning = RandomizedSearchCV(estimator = tuning_model,\n",
    "                                         param_distributions = param_dict,\n",
    "                                         )\n",
    "\n",
    "# Fit model\n",
    "random_search_tuning.fit(X_train, y_train)\n",
    "\n",
    "# Print best parameters\n",
    "print(f\"Best stochastic parameters: {random_search_tuning.best_params_}\")"
   ]
  },
  {
   "cell_type": "markdown",
   "id": "355cd2d2",
   "metadata": {},
   "source": [
    "### Step 6: Final Model Training and Evaluation\n",
    "\n",
    "With the best hyperparameters selected, we now train the final model on the full training dataset and evaluate it on the separate evaluation dataset.\n",
    "\n",
    "1. Prepare the evaluation data in the same manner as you did the training data\n",
    "\n",
    "2. Train final model using the best parameters found in previous tuning steps (`best_tree_params`, `best_stochastic_params`).Set  `eval_metric = \"logloss\"` \n",
    "\n",
    "3. Fit the model to the full training dataset and predict on the evaluation data \n"
   ]
  },
  {
   "cell_type": "code",
   "execution_count": null,
   "id": "67f436db-a550-4fe1-85a6-e4bea3b4b1a4",
   "metadata": {},
   "outputs": [],
   "source": [
    "## FROM CHAT - DO NOT USE \n",
    "from xgboost import XGBClassifier\n",
    "from sklearn.metrics import accuracy_score, log_loss\n",
    "\n",
    "# ---------------------------\n",
    "# 1. Prepare the evaluation data\n",
    "# ---------------------------\n",
    "# Assuming X_eval and y_eval have been preprocessed in the same way as your training data.\n",
    "# For example:\n",
    "# X_eval = evaluation_df.drop('target', axis=1)\n",
    "# y_eval = evaluation_df['target']\n",
    "\n",
    "# ---------------------------\n",
    "# 2. Initialize the final model using the best hyperparameters.\n",
    "# ---------------------------\n",
    "# Combine best tree and stochastic parameters into one dictionary.\n",
    "final_params = {**best_tree_params, **best_stochastic_params}\n",
    "\n",
    "final_model = XGBClassifier(\n",
    "    n_estimators=best_n_trees,    # best number of trees from tuning\n",
    "    learning_rate=best_lr,         # best learning rate from tuning\n",
    "    eval_metric=\"logloss\",         # evaluation metric\n",
    "    random_state=808,\n",
    "    **final_params                # unpack both sets of tuned parameters\n",
    ")\n",
    "\n",
    "# ---------------------------\n",
    "# 3. Fit the final model on the full training dataset and evaluate on the evaluation dataset.\n",
    "# ---------------------------\n",
    "# Fit the model; the eval_set helps monitor performance (it doesn't affect training when using early stopping)\n",
    "final_model.fit(X_train, y_train, eval_set=[(X_eval, y_eval)], verbose=True)\n",
    "\n",
    "# Make predictions on the evaluation set\n",
    "y_pred = final_model.predict(X_eval)\n",
    "y_pred_proba = final_model.predict_proba(X_eval)\n",
    "\n",
    "# Optionally, evaluate performance:\n",
    "accuracy = accuracy_score(y_eval, y_pred)\n",
    "logloss = log_loss(y_eval, y_pred_proba)\n",
    "\n",
    "print(\"Final Model Evaluation:\")\n",
    "print(f\"Accuracy: {accuracy:.4f}\")\n",
    "print(f\"Log Loss: {logloss:.4f}\")\n"
   ]
  },
  {
   "cell_type": "code",
   "execution_count": null,
   "id": "b68c8624-942b-4d1b-a665-77ca99685186",
   "metadata": {
    "scrolled": true,
    "tags": []
   },
   "outputs": [],
   "source": [
    "# Prepare evaluation data\n",
    "\n",
    "# Train final model using best parameters\n",
    "\n",
    "# fit model to full training dataset\n",
    "\n",
    "# predict on evaluation data\n"
   ]
  },
  {
   "cell_type": "markdown",
   "id": "1f39d80a",
   "metadata": {},
   "source": [
    "### Step 7: Model Performance\n",
    "\n",
    "Compute and print the AUC and feature importances for your model."
   ]
  },
  {
   "cell_type": "code",
   "execution_count": null,
   "id": "cc9df468",
   "metadata": {
    "tags": []
   },
   "outputs": [],
   "source": [
    "# From chat: DO NOT USE. NEED TO REVIEW\n",
    "from sklearn.metrics import roc_auc_score\n",
    "import matplotlib.pyplot as plt\n",
    "import pandas as pd\n",
    "\n",
    "# Compute AUC on evaluation data (assuming binary classification)\n",
    "# We extract the probability for the positive class (index 1)\n",
    "y_pred_proba = final_model.predict_proba(X_eval)[:, 1]\n",
    "auc = roc_auc_score(y_eval, y_pred_proba)\n",
    "print(f\"AUC: {auc:.4f}\")\n",
    "\n",
    "# Extract feature importances from the model.\n",
    "# XGBoost provides these via the `feature_importances_` attribute.\n",
    "importances = final_model.feature_importances_\n",
    "features = X_train.columns  # Assumes your training data columns are feature names\n",
    "\n",
    "# Create a DataFrame to neatly display and sort the feature importances\n",
    "fi_df = pd.DataFrame({\n",
    "    'Feature': features,\n",
    "    'Importance': importances\n",
    "}).sort_values(by='Importance', ascending=False)\n",
    "\n",
    "print(\"\\nFeature Importances:\")\n",
    "print(fi_df)\n",
    "\n",
    "# Optionally, visualize the feature importances\n",
    "plt.figure(figsize=(10, 6))\n",
    "plt.barh(fi_df['Feature'], fi_df['Importance'], color='skyblue')\n",
    "plt.xlabel(\"Importance\")\n",
    "plt.title(\"Feature Importances\")\n",
    "plt.gca().invert_yaxis()  # Highest importance at the top\n",
    "plt.show()"
   ]
  },
  {
   "cell_type": "code",
   "execution_count": null,
   "id": "9e9c61bb-cbd8-4093-a8fe-17dd460b55e5",
   "metadata": {},
   "outputs": [],
   "source": [
    "# Compute AUC\n",
    "\n",
    "# Compute feature importances\n",
    "\n",
    "# Print both"
   ]
  },
  {
   "cell_type": "markdown",
   "id": "7476ef1d",
   "metadata": {},
   "source": [
    "### Step 8: The comparison\n",
    "How does your model's performance compare to the of Elith et al. (See Tables 2 and 3)?  Is there another way to compare the models in addition to predictive performance?  Whose model wins in that regard?"
   ]
  },
  {
   "cell_type": "markdown",
   "id": "07dc2a69-bf1e-4442-ad9e-22dc26e0f2b3",
   "metadata": {
    "tags": []
   },
   "source": [
    "*Your answer here*"
   ]
  }
 ],
 "metadata": {
  "kernelspec": {
   "display_name": "Anaconda 3 (EDS232)",
   "language": "python",
   "name": "ml-env"
  },
  "language_info": {
   "codemirror_mode": {
    "name": "ipython",
    "version": 3
   },
   "file_extension": ".py",
   "mimetype": "text/x-python",
   "name": "python",
   "nbconvert_exporter": "python",
   "pygments_lexer": "ipython3",
   "version": "3.10.16"
  }
 },
 "nbformat": 4,
 "nbformat_minor": 5
}
