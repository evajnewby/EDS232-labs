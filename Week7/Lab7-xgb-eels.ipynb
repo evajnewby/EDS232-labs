{
 "cells": [
  {
   "cell_type": "markdown",
   "id": "b6e8c422-cc19-4d89-8f96-003c36cf7c33",
   "metadata": {},
   "source": [
    "## Lab 7: Eel Distribution Modeling with XGBoost\n",
    "\n",
    "Author: Eva Newby\n",
    "\n",
    "Collaborators: Karol Paya\n",
    "\n",
    "**Reference Paper:** [Elith et al. (2008)](https://ucsb.box.com/s/6k7636wsbogdg3orarxrlowke0ounbic)\n",
    "\n",
    "In this lab, you will model the distribution of the eel species *Anguilla australis* using **boosted classification trees (BCTs)**, a machine learning technique that improves predictive performance by combining multiple decision trees. Elith et al. (2008) offered an early implementation of BRTs in an ecological setting to understand how environmental variables influence eel distribution.\n",
    "\n",
    "You will work with **two datasets**:\n",
    "1. **Training Data** – Used to build and evaluate your XGBoost model.\n",
    "2. **Evaluation Data** – Used to assess model performance on unseen data.\n",
    "\n",
    "To achieve the following objectives:\n",
    "- Train and fine-tune an **XGBoost** model for classification of species presence/absence data.\n",
    "- Compare your model’s performance to the approach used by Elith et al.\n",
    "\n",
    "\n",
    "**Wherever applicable in this lab, use a random state of 808.**"
   ]
  },
  {
   "cell_type": "markdown",
   "id": "ac39e743-8686-4f51-85ee-7c1925002f5f",
   "metadata": {},
   "source": [
    "### Step 0: Load libraries and data\n"
   ]
  },
  {
   "cell_type": "code",
   "execution_count": 1,
   "id": "dd687480-182a-4416-9cdd-10eb33d147d1",
   "metadata": {
    "tags": []
   },
   "outputs": [],
   "source": [
    "import pandas as pd\n",
    "from sklearn.model_selection import train_test_split,RandomizedSearchCV\n",
    "from sklearn.preprocessing import LabelEncoder\n",
    "import xgboost as xgb\n",
    "from xgboost import XGBClassifier\n",
    "from sklearn.metrics import roc_auc_score\n",
    "from scipy.stats import uniform, randint\n",
    "from sklearn.preprocessing import StandardScaler\n",
    "from sklearn.metrics import accuracy_score\n",
    "\n",
    "# Download the datasets\n",
    "model_data = pd.read_csv(\"/courses/EDS232/Data/model.data.csv\").drop(columns=['Site'])\n",
    "eval_data = pd.read_csv(\"/courses/EDS232/Data/eval.data.csv\")"
   ]
  },
  {
   "cell_type": "markdown",
   "id": "21e16c25",
   "metadata": {},
   "source": [
    "### Step 1: Initial Data Preprocessing\n",
    "Let's get started by preparing our data. `Angaus` will be our target variable(`y`), and all other variables will be our features (`X`). Then encode the categorical feature using `LabelEncoder()`. The final step will be a bit different this time.  We don't need to split off testing data for the final model evaluation; a separate set (`eval_data`) will be used as in Elith et al.  We do, however, need to split our data in order to do the early stopping process. When splitting your data into training and validation, use a test size of 0.2 and a random state of 808. "
   ]
  },
  {
   "cell_type": "code",
   "execution_count": 2,
   "id": "92f8a3c0",
   "metadata": {
    "tags": []
   },
   "outputs": [
    {
     "name": "stdout",
     "output_type": "stream",
     "text": [
      "<class 'pandas.core.frame.DataFrame'>\n",
      "RangeIndex: 1000 entries, 0 to 999\n",
      "Data columns (total 13 columns):\n",
      " #   Column      Non-Null Count  Dtype  \n",
      "---  ------      --------------  -----  \n",
      " 0   Angaus      1000 non-null   int64  \n",
      " 1   SegSumT     1000 non-null   float64\n",
      " 2   SegTSeas    1000 non-null   float64\n",
      " 3   SegLowFlow  1000 non-null   float64\n",
      " 4   DSDist      1000 non-null   float64\n",
      " 5   DSMaxSlope  1000 non-null   float64\n",
      " 6   USAvgT      1000 non-null   float64\n",
      " 7   USRainDays  1000 non-null   float64\n",
      " 8   USSlope     1000 non-null   float64\n",
      " 9   USNative    1000 non-null   float64\n",
      " 10  DSDam       1000 non-null   int64  \n",
      " 11  Method      1000 non-null   object \n",
      " 12  LocSed      824 non-null    float64\n",
      "dtypes: float64(10), int64(2), object(1)\n",
      "memory usage: 101.7+ KB\n",
      "None\n",
      "Index(['Angaus', 'SegSumT', 'SegTSeas', 'SegLowFlow', 'DSDist', 'DSMaxSlope',\n",
      "       'USAvgT', 'USRainDays', 'USSlope', 'USNative', 'DSDam', 'Method',\n",
      "       'LocSed'],\n",
      "      dtype='object')\n",
      "Categorical columns: Index(['Method'], dtype='object')\n"
     ]
    },
    {
     "name": "stderr",
     "output_type": "stream",
     "text": [
      "/tmp/ipykernel_764807/4021797446.py:17: SettingWithCopyWarning: \n",
      "A value is trying to be set on a copy of a slice from a DataFrame.\n",
      "Try using .loc[row_indexer,col_indexer] = value instead\n",
      "\n",
      "See the caveats in the documentation: https://pandas.pydata.org/pandas-docs/stable/user_guide/indexing.html#returning-a-view-versus-a-copy\n",
      "  X['Method'] = le.fit_transform(X['Method']) # encoding x\n"
     ]
    },
    {
     "data": {
      "text/plain": [
       "SegSumT       float64\n",
       "SegTSeas      float64\n",
       "SegLowFlow    float64\n",
       "DSDist        float64\n",
       "DSMaxSlope    float64\n",
       "USAvgT        float64\n",
       "USRainDays    float64\n",
       "USSlope       float64\n",
       "USNative      float64\n",
       "DSDam           int64\n",
       "Method          int64\n",
       "LocSed        float64\n",
       "dtype: object"
      ]
     },
     "execution_count": 2,
     "metadata": {},
     "output_type": "execute_result"
    }
   ],
   "source": [
    "# separate target and features\n",
    "y = model_data['Angaus'] # target variable\n",
    "X = model_data.loc[:, model_data.columns != 'Angaus'] # features\n",
    "\n",
    "# View column names\n",
    "print(model_data.info())\n",
    "\n",
    "# Print all column names\n",
    "print(model_data.columns)\n",
    "\n",
    "# Print categorical column\n",
    "print(\"Categorical columns:\", model_data.select_dtypes(include=['object']).columns)\n",
    "\n",
    "# Encode categorical features\n",
    "cat_feat = 'Method'\n",
    "le = LabelEncoder()\n",
    "X['Method'] = le.fit_transform(X['Method']) # encoding x\n",
    "\n",
    "# split data into testing and validation\n",
    "X_train, X_val, y_train, y_val = train_test_split(X, y, test_size = 0.2, random_state = 808)\n",
    "\n",
    "X_train.dtypes"
   ]
  },
  {
   "cell_type": "markdown",
   "id": "e025a34e",
   "metadata": {},
   "source": [
    "### Step 2: Determine best number of trees using early stopping\n",
    "As a guard against overfitting while maximizing performance, we use **early stopping**. We start with a large number of trees and allow XGBoost to determine the optimal number by stopping training when the validation error no longer improves.\n",
    "\n",
    "The choice of hyperparameter starting values is important in this process. We begin with:\n",
    "- `n_estimators=1000` to ensure the model has enough capacity to learn meaningful patterns.\n",
    "- `learning_rate=0.1` as a reasonable default that balances learning speed and performance.\n",
    "- `eval_metric=\"logloss\"` as the metric of performance to optimize.\n",
    "- `early_stopping_rounds=50` to halt training if no improvement is seen for 50 rounds, preventing unnecessary computations.\n",
    "- `random_state = 808`\n",
    "\n",
    "We then `fit()` our specified baseline model, passing in the training sets as usual and specifying validation sets values for the `eval_set` parameter.\n",
    "\n",
    "Finally, get and print the best number of trees from the fitted baseline model.\n"
   ]
  },
  {
   "cell_type": "code",
   "execution_count": 3,
   "id": "55bf0fa0",
   "metadata": {
    "tags": []
   },
   "outputs": [
    {
     "name": "stdout",
     "output_type": "stream",
     "text": [
      "[0]\tvalidation_0-logloss:0.51354\n",
      "[1]\tvalidation_0-logloss:0.48803\n",
      "[2]\tvalidation_0-logloss:0.46738\n",
      "[3]\tvalidation_0-logloss:0.45126\n",
      "[4]\tvalidation_0-logloss:0.43766\n",
      "[5]\tvalidation_0-logloss:0.42555\n",
      "[6]\tvalidation_0-logloss:0.41728\n",
      "[7]\tvalidation_0-logloss:0.40769\n",
      "[8]\tvalidation_0-logloss:0.40082\n",
      "[9]\tvalidation_0-logloss:0.39562\n",
      "[10]\tvalidation_0-logloss:0.39263\n",
      "[11]\tvalidation_0-logloss:0.38984\n",
      "[12]\tvalidation_0-logloss:0.38489\n",
      "[13]\tvalidation_0-logloss:0.38327\n",
      "[14]\tvalidation_0-logloss:0.37803\n",
      "[15]\tvalidation_0-logloss:0.37652\n",
      "[16]\tvalidation_0-logloss:0.37337\n",
      "[17]\tvalidation_0-logloss:0.37156\n",
      "[18]\tvalidation_0-logloss:0.36987\n",
      "[19]\tvalidation_0-logloss:0.36868\n",
      "[20]\tvalidation_0-logloss:0.36809\n",
      "[21]\tvalidation_0-logloss:0.36721\n",
      "[22]\tvalidation_0-logloss:0.36763\n",
      "[23]\tvalidation_0-logloss:0.36570\n",
      "[24]\tvalidation_0-logloss:0.36577\n",
      "[25]\tvalidation_0-logloss:0.36666\n",
      "[26]\tvalidation_0-logloss:0.36559\n",
      "[27]\tvalidation_0-logloss:0.36552\n",
      "[28]\tvalidation_0-logloss:0.36422\n",
      "[29]\tvalidation_0-logloss:0.36380\n",
      "[30]\tvalidation_0-logloss:0.36482\n",
      "[31]\tvalidation_0-logloss:0.36468\n",
      "[32]\tvalidation_0-logloss:0.36540\n",
      "[33]\tvalidation_0-logloss:0.36509\n",
      "[34]\tvalidation_0-logloss:0.36664\n",
      "[35]\tvalidation_0-logloss:0.36620\n",
      "[36]\tvalidation_0-logloss:0.36585\n",
      "[37]\tvalidation_0-logloss:0.36646\n",
      "[38]\tvalidation_0-logloss:0.36736\n",
      "[39]\tvalidation_0-logloss:0.36764\n",
      "[40]\tvalidation_0-logloss:0.36846\n",
      "[41]\tvalidation_0-logloss:0.36805\n",
      "[42]\tvalidation_0-logloss:0.36795\n",
      "[43]\tvalidation_0-logloss:0.36930\n",
      "[44]\tvalidation_0-logloss:0.36916\n",
      "[45]\tvalidation_0-logloss:0.37009\n",
      "[46]\tvalidation_0-logloss:0.36979\n",
      "[47]\tvalidation_0-logloss:0.37037\n",
      "[48]\tvalidation_0-logloss:0.37151\n",
      "[49]\tvalidation_0-logloss:0.37360\n",
      "[50]\tvalidation_0-logloss:0.37525\n",
      "[51]\tvalidation_0-logloss:0.37579\n",
      "[52]\tvalidation_0-logloss:0.37756\n",
      "[53]\tvalidation_0-logloss:0.37736\n",
      "[54]\tvalidation_0-logloss:0.37770\n",
      "[55]\tvalidation_0-logloss:0.37929\n",
      "[56]\tvalidation_0-logloss:0.37880\n",
      "[57]\tvalidation_0-logloss:0.37905\n",
      "[58]\tvalidation_0-logloss:0.37876\n",
      "[59]\tvalidation_0-logloss:0.38100\n",
      "[60]\tvalidation_0-logloss:0.38130\n",
      "[61]\tvalidation_0-logloss:0.38072\n",
      "[62]\tvalidation_0-logloss:0.37987\n",
      "[63]\tvalidation_0-logloss:0.38153\n",
      "[64]\tvalidation_0-logloss:0.38189\n",
      "[65]\tvalidation_0-logloss:0.38174\n",
      "[66]\tvalidation_0-logloss:0.38213\n",
      "[67]\tvalidation_0-logloss:0.38358\n",
      "[68]\tvalidation_0-logloss:0.38207\n",
      "[69]\tvalidation_0-logloss:0.38380\n",
      "[70]\tvalidation_0-logloss:0.38347\n",
      "[71]\tvalidation_0-logloss:0.38185\n",
      "[72]\tvalidation_0-logloss:0.38214\n",
      "[73]\tvalidation_0-logloss:0.38155\n",
      "[74]\tvalidation_0-logloss:0.38143\n",
      "[75]\tvalidation_0-logloss:0.38350\n",
      "[76]\tvalidation_0-logloss:0.38347\n",
      "[77]\tvalidation_0-logloss:0.38398\n",
      "[78]\tvalidation_0-logloss:0.38436\n",
      "Best number of trees: 29\n"
     ]
    }
   ],
   "source": [
    "# Create baseline model\n",
    "baseline = XGBClassifier(n_estimators=1000,\n",
    "                         learning_rate=0.1,\n",
    "                         eval_metric=\"logloss\",\n",
    "                         early_stopping_rounds=50,\n",
    "                         random_state = 808)\n",
    "\n",
    "# Fit baseline model\n",
    "baseline.fit(X_train, y_train,\n",
    "            eval_set = [(X_val,  y_val)],\n",
    "            verbose = True)\n",
    "\n",
    "# Save best iterations\n",
    "best_n_est = baseline.best_iteration\n",
    "\n",
    "# Find and print the best number of trees from fitted baseline model\n",
    "print(\"Best number of trees:\", baseline.best_iteration)"
   ]
  },
  {
   "cell_type": "markdown",
   "id": "95ac1456",
   "metadata": {},
   "source": [
    "### Step 3: Tune Learning Rate\n",
    "\n",
    "The (`learning_rate` hyperparameter controls how much each tree contributes to improving the model's performance. A *higher* learning rate allows the model to learn quickly but risks missing the optimal solution and overfitting, while a *lower* learning rate makes learning slower but can improve generalization.\n",
    "\n",
    "To find the optimal value, we'll use **randomized search cross-validation** (`RandomizedSearchCV`) to test different learning rates in the 0.01 to 0.3 range. Instead of testing every possible value, this method samples a set number of candidates (`n_iter`) from a defined parameter distribution.  In this case, sampling 20 candidates from a uniform distribution between `0.01` and `0.31`. Check out the [documentation](https://docs.scipy.org/doc/scipy/reference/generated/scipy.stats.uniform.html) on `scipy.stats.uniform` to see how it differs from `random.uniform`. Be sure to use a random state of 808.\n",
    "\n",
    "After using `RandomizedSearchCV`, fit your model. Print the best learning rate. \n"
   ]
  },
  {
   "cell_type": "code",
   "execution_count": 4,
   "id": "393b5c0b-b212-440b-a052-0c9a7e406b0f",
   "metadata": {
    "tags": []
   },
   "outputs": [
    {
     "name": "stdout",
     "output_type": "stream",
     "text": [
      "Fitting 3 folds for each of 20 candidates, totalling 60 fits\n",
      "Best learning rate: 0.263902043687467\n"
     ]
    }
   ],
   "source": [
    "# build parameter distribution\n",
    "param_dist_learning = {'learning_rate': uniform(loc = 0.01, scale = 0.3)}\n",
    "\n",
    "# Define new XGB classifier\n",
    "tuning_classifier = XGBClassifier(n_estimators = best_n_est,\n",
    "                                 random_state = 808)\n",
    "\n",
    "# Set up RandomizedSearchCV\n",
    "random_search = RandomizedSearchCV(estimator = tuning_classifier,\n",
    "                                   param_distributions = param_dist_learning,\n",
    "                                   n_iter = 20,\n",
    "                                   scoring = 'roc_auc', \n",
    "                                   cv = 3,\n",
    "                                   random_state=808,\n",
    "                                   verbose=1)\n",
    "\n",
    "# Fit the randomized search using the training data.\n",
    "random_search.fit(X_train, y_train,\n",
    "                  eval_set=[(X_val, y_val)],\n",
    "                  verbose=False)\n",
    "\n",
    "# save learning rate\n",
    "best_learning = random_search.best_params_['learning_rate']\n",
    "\n",
    "# Print the best learning rate found.\n",
    "print(\"Best learning rate:\", random_search.best_params_['learning_rate']) "
   ]
  },
  {
   "cell_type": "markdown",
   "id": "71907b11",
   "metadata": {},
   "source": [
    "### Step 4: Tune Tree-Specific Parameters\n",
    "\n",
    "Now that we've determined the best number of tree and learning rate, we need to tune the complexity of individual trees in our model. Initialize your model with the best number of trees and learning rate.Then, define a parameter dictionary that takes on the following values:  \n",
    "\n",
    "- `max_depth`(Controls how deep each tree can grow.  Takes integer values): A random integer from 3 to 10 ( inclusive of 3 and 10)\n",
    "- `min_child_weight`( Determines the minimum number of samples required in a leaf node. Takes integer values) : A random integer from 1 to 10 ( inclusive of 1 and 10)\n",
    "- `gamma` (Defines the minimum loss reduction needed to make a further split in a tree. Can take on values from a continuous range):  A uniform distribution from 0.05 to 0.10 - once again remember to check the `scipy.stats.uniform()` documentation! \n",
    "- `random_state = 808`\n",
    "\n",
    "To find the best combination, we again use `RandomizedSearchCV`, allowing us to efficiently sample hyperparameters and evaluate different configurations using cross-validation. After fitting the model, print the best parameters. \n",
    "\n"
   ]
  },
  {
   "cell_type": "code",
   "execution_count": 5,
   "id": "df1aa8db-7c50-46b7-8c6a-26e6891646c6",
   "metadata": {
    "tags": []
   },
   "outputs": [],
   "source": [
    "#  Initialize model with the best number of trees and learning rate\n",
    "optimal_tree_model = xgb.XGBClassifier(n_estimators = best_n_est,\n",
    "                                       learning_rate = best_learning,\n",
    "                                       eval_metric = \"logloss\",\n",
    "                                       random_state = 808)\n",
    "\n",
    "# define a parameter dictionary\n",
    "parameters_tree  = {'max_depth': randint(3,11),\n",
    "              'min_child_weight': randint(1, 11),\n",
    "              'gamma': uniform(0.05, 0.05)}\n"
   ]
  },
  {
   "cell_type": "code",
   "execution_count": 6,
   "id": "95c411a3",
   "metadata": {
    "tags": []
   },
   "outputs": [
    {
     "name": "stdout",
     "output_type": "stream",
     "text": [
      "Fitting 5 folds for each of 20 candidates, totalling 100 fits\n",
      "The best parameters are: {'gamma': 0.09077113838342292, 'max_depth': 6, 'min_child_weight': 9}\n"
     ]
    }
   ],
   "source": [
    "# find best combo\n",
    "random_search_tree = RandomizedSearchCV(estimator = optimal_tree_model,\n",
    "                                   param_distributions = parameters_tree,\n",
    "                                   n_iter = 20,\n",
    "                                   cv = 5,\n",
    "                                   random_state = 808,\n",
    "                                   verbose = 1)\n",
    "\n",
    "# Fit to training data\n",
    "random_search_tree.fit(X_train, y_train)\n",
    "\n",
    "\n",
    "# Save best tree params\n",
    "best_tree_params = random_search_tree.best_params_\n",
    "\n",
    "# Print the best parameters\n",
    "print(f\"The best parameters are: {random_search_tree.best_params_}\")"
   ]
  },
  {
   "cell_type": "markdown",
   "id": "2168bf81",
   "metadata": {},
   "source": [
    "### Step 5: Tune Stochastic Components\n",
    "\n",
    "Now, we are finally ready to tune the stochastic components of the XGBoost model.  These parameters help prevent overfitting by reducing correlation between trees. Initialize your model with the best number of trees, best learning rate,and your optimized tree values (**Note**: you can use \\**best_tree_parameters to unpack the the dictionary of optimzed tree values) .Then, define a parameter dictionary that takes on the following values:  \n",
    "\n",
    "- `subsample` (Controls the fraction of training samples used for each boosting round) : A uniform distribution between .5 and .10 (remeber to check `scipy.stats.uniform()` documentation! )\n",
    "- `colsample_bytree`(Specifies the fraction of features to consider when building each tree) : A uniform distribution between .5 and .10\n",
    "- `random_state = 808`\n",
    "\n",
    "We again use `RandomizedSearchCV` to find the best combination of these parameters. After fitting the model, print the best parameters. \n"
   ]
  },
  {
   "cell_type": "code",
   "execution_count": 10,
   "id": "32a61aee-57b1-470b-aa07-488dbe70f898",
   "metadata": {
    "tags": []
   },
   "outputs": [
    {
     "name": "stdout",
     "output_type": "stream",
     "text": [
      "Best stochastic parameters: {'colsample_bytree': 0.9347901290928311, 'subsample': 0.923170072812445}\n"
     ]
    }
   ],
   "source": [
    "# Add values in from previous steps  \n",
    "best_tree_parameters = {'max_depth': 6,\n",
    "                        'min_child_weight': 9,\n",
    "                        'gamma': 0.09077113838342292}\n",
    "\n",
    "# Initialize Model for Tuning\n",
    "stochastic_tuning_model = xgb.XGBClassifier(n_estimators = best_n_est,\n",
    "                            learning_rate = best_learning,\n",
    "                             **best_tree_parameters,\n",
    "                            random_state = 808)\n",
    "\n",
    "# Parameter dictionary\n",
    "param_dict = {'subsample': uniform(loc = 0.5, scale = 0.5),\n",
    "              'colsample_bytree': uniform(loc = 0.5, scale = 0.5)}\n",
    "\n",
    "# Initialize randomized search\n",
    "random_search_stochastic_tuning = RandomizedSearchCV(estimator = stochastic_tuning_model,\n",
    "                                                     param_distributions = param_dict,\n",
    "                                                     random_state = 808)\n",
    "\n",
    "# Fit model\n",
    "random_search_stochastic_tuning.fit(X_train, y_train)\n",
    "\n",
    "# Save best stochastic params\n",
    "best_stochastic_params = random_search_stochastic_tuning.best_params_\n",
    "\n",
    "# Print best parameters\n",
    "print(f\"Best stochastic parameters: {random_search_stochastic_tuning.best_params_}\")"
   ]
  },
  {
   "cell_type": "markdown",
   "id": "355cd2d2",
   "metadata": {},
   "source": [
    "### Step 6: Final Model Training and Evaluation\n",
    "\n",
    "With the best hyperparameters selected, we now train the final model on the full training dataset and evaluate it on the separate evaluation dataset.\n",
    "\n",
    "1. Prepare the evaluation data in the same manner as you did the training data\n",
    "\n",
    "2. Train final model using the best parameters found in previous tuning steps (`best_tree_params`, `best_stochastic_params`).Set  `eval_metric = \"logloss\"` \n",
    "\n",
    "3. Fit the model to the full training dataset and predict on the evaluation data \n"
   ]
  },
  {
   "cell_type": "code",
   "execution_count": 28,
   "id": "58bb59b3-6592-4ef4-bbda-75990c9555cf",
   "metadata": {
    "tags": []
   },
   "outputs": [
    {
     "name": "stdout",
     "output_type": "stream",
     "text": [
      "Accuracy on Evaluation Data: 0.830\n"
     ]
    }
   ],
   "source": [
    "# Prepare evaluation data\n",
    "y_eval = eval_data['Angaus_obs'] # target variable\n",
    "X_eval = eval_data.loc[:, model_data.columns != 'Angaus_obs'] # features\n",
    "\n",
    "# Prepare the evaluation data\n",
    "X_train, X_eval, y_train, y_eval = train_test_split(X, y, test_size = 0.2, random_state = 808)\n",
    "\n",
    "# Initialize the StandardScaler to scale the features\n",
    "scaler = StandardScaler()\n",
    "X_train = scaler.fit_transform(X_train) \n",
    "X_eval = scaler.transform(X_eval)\n",
    "\n",
    "# Train final model using best parameters\n",
    "final_model = xgb.XGBClassifier(eval_metric=\"logloss\",\n",
    "                            random_state=808,\n",
    "                            **best_tree_params, \n",
    "                            **best_stochastic_params)\n",
    "\n",
    "# fit final model to full training dataset\n",
    "final_model.fit(X_train, y_train)\n",
    "\n",
    "# predict on evaluation data\n",
    "y_pred = final_model.predict(X_eval)\n",
    "y_pred_proba = final_model.predict_proba(X_eval)\n",
    "\n",
    "# Calculate accuracy\n",
    "accuracy = accuracy_score(y_eval, y_pred)\n",
    "\n",
    "# Print results\n",
    "print(f\"Accuracy on Evaluation Data: {accuracy:.3f}\")"
   ]
  },
  {
   "cell_type": "markdown",
   "id": "1f39d80a",
   "metadata": {},
   "source": [
    "### Step 7: Model Performance\n",
    "\n",
    "Compute and print the AUC and feature importances for your model."
   ]
  },
  {
   "cell_type": "code",
   "execution_count": 29,
   "id": "b412d7ea-5a5f-438c-b7cd-4d500a4f211f",
   "metadata": {
    "tags": []
   },
   "outputs": [
    {
     "name": "stdout",
     "output_type": "stream",
     "text": [
      "AUC: 0.887\n",
      "Feature Importances:\n",
      "SegSumT: 0.243\n",
      "SegTSeas: 0.058\n",
      "SegLowFlow: 0.043\n",
      "DSDist: 0.053\n",
      "DSMaxSlope: 0.106\n",
      "USAvgT: 0.073\n",
      "USRainDays: 0.066\n",
      "USSlope: 0.071\n",
      "USNative: 0.081\n",
      "DSDam: 0.000\n",
      "Method: 0.156\n",
      "LocSed: 0.050\n"
     ]
    }
   ],
   "source": [
    "# Compute AUC\n",
    "y_pred_proba = final_model.predict_proba(X_eval)[:, 1]\n",
    "auc = roc_auc_score(y_eval, y_pred_proba)\n",
    "\n",
    "# Compute feature importances\n",
    "fimportances = final_model.feature_importances_\n",
    "\n",
    "# Print both\n",
    "print(f\"AUC: {auc:.3f}\")\n",
    "print(\"Feature Importances:\")\n",
    "for feature, importance in zip(X.columns, fimportances):  \n",
    "    print(f\"{feature}: {importance:.3f}\")"
   ]
  },
  {
   "cell_type": "markdown",
   "id": "7476ef1d",
   "metadata": {},
   "source": [
    "### Step 8: The comparison\n",
    "How does your model's performance compare to the of Elith et al. (See Tables 2 and 3)?  Is there another way to compare the models in addition to predictive performance?  Whose model wins in that regard?"
   ]
  },
  {
   "cell_type": "markdown",
   "id": "07dc2a69-bf1e-4442-ad9e-22dc26e0f2b3",
   "metadata": {
    "tags": []
   },
   "source": [
    "AUC from Elith et al: 0.869, AUC from this analysis: 0.887. Based on these numbers, the AUC from this analysis does outperform the AUC from the analysis in Elith et al. AUC tells us about predictive performance, so an AUC of 0.887 indicates that the model has a better capability of distinguishing between the classes, especially in the case of imbalanced or difficult-to-predict outcomes.\n",
    "\n",
    "Other ways to compare models include model complexity related to computational efficiency. Elith et al.'s model employs 1050 trees, while the model developed here utilizes fewer trees, making it more efficient in terms of both training time and memory consumption."
   ]
  }
 ],
 "metadata": {
  "kernelspec": {
   "display_name": "Anaconda 3 (EDS232)",
   "language": "python",
   "name": "ml-env"
  },
  "language_info": {
   "codemirror_mode": {
    "name": "ipython",
    "version": 3
   },
   "file_extension": ".py",
   "mimetype": "text/x-python",
   "name": "python",
   "nbconvert_exporter": "python",
   "pygments_lexer": "ipython3",
   "version": "3.10.16"
  }
 },
 "nbformat": 4,
 "nbformat_minor": 5
}
